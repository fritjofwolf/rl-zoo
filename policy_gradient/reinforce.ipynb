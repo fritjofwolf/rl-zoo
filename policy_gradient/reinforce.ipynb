{
 "cells": [
  {
   "cell_type": "code",
   "execution_count": 2,
   "metadata": {},
   "outputs": [],
   "source": [
    "import numpy as np\n",
    "import gym\n",
    "env = gym.make('CartPole-v0')"
   ]
  },
  {
   "cell_type": "code",
   "execution_count": 3,
   "metadata": {},
   "outputs": [],
   "source": [
    "def softmax(values):\n",
    "    exp_values = np.exp(values)\n",
    "    return exp_values / np.sum(exp_values)\n",
    "\n",
    "\n",
    "def compute_trajectory(env, weights):\n",
    "    sar_list = []\n",
    "    state = env.reset()\n",
    "    done = False\n",
    "    cnt = 0\n",
    "    while not done:\n",
    "        values = np.multiply(weights, state)\n",
    "        probs = softmax(values)\n",
    "        action = np.select(2, p=probs)\n",
    "        next_state, reward, done, info = env.step(action)\n",
    "        sar_list.append((state, action, reward))\n",
    "        state = next_state\n",
    "        cnt += 1\n",
    "    return sar_list, cnt\n",
    "\n",
    "\n",
    "def update_weights(weights, sar_list):\n",
    "    pass\n",
    "\n",
    "\n",
    "        "
   ]
  },
  {
   "cell_type": "code",
   "execution_count": null,
   "metadata": {},
   "outputs": [],
   "source": [
    "sar_list, reward = compute_trajectory(env, weigths)\n",
    "while reward < 195:\n",
    "    weights = update_weights(weights, sar_list)\n",
    "    sar_list, reward = compute_trajectory(env, weigths)\n",
    "    print(reward)"
   ]
  }
 ],
 "metadata": {
  "kernelspec": {
   "display_name": "Python 3",
   "language": "python",
   "name": "python3"
  },
  "language_info": {
   "codemirror_mode": {
    "name": "ipython",
    "version": 3
   },
   "file_extension": ".py",
   "mimetype": "text/x-python",
   "name": "python",
   "nbconvert_exporter": "python",
   "pygments_lexer": "ipython3",
   "version": "3.6.6"
  }
 },
 "nbformat": 4,
 "nbformat_minor": 2
}
