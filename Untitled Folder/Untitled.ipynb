{
 "cells": [
  {
   "cell_type": "code",
   "execution_count": 4,
   "metadata": {},
   "outputs": [],
   "source": [
    "import numpy as np\n",
    "import gym\n",
    "import keras\n",
    "from sklearn.neural_network import MLPRegressor"
   ]
  },
  {
   "cell_type": "code",
   "execution_count": 2,
   "metadata": {},
   "outputs": [
    {
     "ename": "SyntaxError",
     "evalue": "unexpected EOF while parsing (<ipython-input-2-7aa498a9674e>, line 2)",
     "output_type": "error",
     "traceback": [
      "\u001b[0;36m  File \u001b[0;32m\"<ipython-input-2-7aa498a9674e>\"\u001b[0;36m, line \u001b[0;32m2\u001b[0m\n\u001b[0;31m    \u001b[0m\n\u001b[0m    ^\u001b[0m\n\u001b[0;31mSyntaxError\u001b[0m\u001b[0;31m:\u001b[0m unexpected EOF while parsing\n"
     ]
    }
   ],
   "source": [
    "class DeepNeuroevolution():\n",
    "    \n",
    "    def __init__(self, env, n_individuals, n_actions, n_features, nn_architecture, reward_goal):\n",
    "        self._env = env\n",
    "        self._n_actions = n_actions\n",
    "        self._n_features = n_features\n",
    "        self._n_individuals = n_individuals\n",
    "        self._nn_architecture = nn_architecture\n",
    "        self._reward_goal = reward_goal\n",
    "    \n",
    "    def find_optimal_network(self):\n",
    "        pass\n",
    "    \n",
    "    def evaluate_network(self, nn, env):\n",
    "        pass\n",
    "    \n",
    "    def create_first_generation(self):\n",
    "        self._current_population = []\n",
    "        for _ in range(self._n_individuals):\n",
    "            mlp = MLPRegressor(hidden_layer_sizes = (10), alpha=0.0001, max_iter=2000)\n",
    "    \n",
    "    def create_new_generation(self):\n",
    "        pass"
   ]
  },
  {
   "cell_type": "code",
   "execution_count": null,
   "metadata": {},
   "outputs": [],
   "source": []
  }
 ],
 "metadata": {
  "kernelspec": {
   "display_name": "Python 3",
   "language": "python",
   "name": "python3"
  },
  "language_info": {
   "codemirror_mode": {
    "name": "ipython",
    "version": 3
   },
   "file_extension": ".py",
   "mimetype": "text/x-python",
   "name": "python",
   "nbconvert_exporter": "python",
   "pygments_lexer": "ipython3",
   "version": "3.6.6"
  }
 },
 "nbformat": 4,
 "nbformat_minor": 2
}
