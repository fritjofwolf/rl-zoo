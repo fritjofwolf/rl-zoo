{
 "cells": [
  {
   "cell_type": "code",
   "execution_count": null,
   "metadata": {},
   "outputs": [],
   "source": [
    "import gym\n",
    "import threading\n",
    "import _thread\n",
    "import numpy as np\n",
    "import time"
   ]
  },
  {
   "cell_type": "code",
   "execution_count": null,
   "metadata": {},
   "outputs": [],
   "source": [
    "def f(ida):\n",
    "    cnt = 4\n",
    "    while cnt < 10:\n",
    "        time.sleep(4)\n",
    "        a.append(ida)"
   ]
  },
  {
   "cell_type": "code",
   "execution_count": null,
   "metadata": {
    "scrolled": true
   },
   "outputs": [],
   "source": [
    "a = []\n",
    "_thread.start_new_thread(f, ((0,1),))\n",
    "_thread.start_new_thread(f, ((1,2),))\n",
    "\n",
    "\n"
   ]
  },
  {
   "cell_type": "code",
   "execution_count": null,
   "metadata": {},
   "outputs": [],
   "source": [
    "env = gym.make('CartPole-v0')\n",
    "state = env.reset()"
   ]
  },
  {
   "cell_type": "code",
   "execution_count": null,
   "metadata": {},
   "outputs": [],
   "source": [
    "a"
   ]
  },
  {
   "cell_type": "code",
   "execution_count": null,
   "metadata": {},
   "outputs": [],
   "source": [
    "import threading\n",
    "import time\n",
    "import numpy as np\n",
    "import gym\n",
    "\n",
    "exitFlag = 0\n",
    "experience = []\n",
    "\n",
    "class myThread (threading.Thread):\n",
    "    def __init__(self, threadID, name, counter):\n",
    "        threading.Thread.__init__(self)\n",
    "        self.threadID = threadID\n",
    "        self.name = name\n",
    "        self.counter = counter\n",
    "    def run(self):\n",
    "        print(\"Starting \" + self.name)\n",
    "        collect_data(self.name, 10**1)\n",
    "        print (\"Exiting \" + self.name)\n",
    "\n",
    "def collect_data(thread, batch_size):\n",
    "    env = gym.make('CartPole-v0')\n",
    "    cnt = 0\n",
    "    while True:\n",
    "        state = env.reset()\n",
    "        done = False\n",
    "        while not done:\n",
    "            time.sleep(0.01)\n",
    "            action = np.random.randint(2)\n",
    "            state, rew, done, info = env.step(action)\n",
    "            cnt += 1\n",
    "            experience.append((thread, state, action, rew))\n",
    "            if cnt > batch_size:\n",
    "                return\n",
    "\n",
    "# Create new threads\n",
    "thread1 = myThread(1, \"Thread-1\", 1)\n",
    "thread2 = myThread(2, \"Thread-2\", 2)\n",
    "\n",
    "# Start new Threads\n",
    "thread1.start()\n",
    "thread2.start()\n",
    "thread1.join()\n",
    "thread2.join()\n",
    "# Start new Threads\n",
    "thread1.run()\n",
    "thread2.run()\n",
    "thread1.join()\n",
    "thread2.join()\n",
    "print(len(experience))\n",
    "print('Experience buffer:', experience)"
   ]
  },
  {
   "cell_type": "code",
   "execution_count": null,
   "metadata": {},
   "outputs": [],
   "source": []
  }
 ],
 "metadata": {
  "kernelspec": {
   "display_name": "Python 3",
   "language": "python",
   "name": "python3"
  },
  "language_info": {
   "codemirror_mode": {
    "name": "ipython",
    "version": 3
   },
   "file_extension": ".py",
   "mimetype": "text/x-python",
   "name": "python",
   "nbconvert_exporter": "python",
   "pygments_lexer": "ipython3",
   "version": "3.6.7"
  }
 },
 "nbformat": 4,
 "nbformat_minor": 2
}
