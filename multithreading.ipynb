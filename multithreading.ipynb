{
 "cells": [
  {
   "cell_type": "code",
   "execution_count": null,
   "metadata": {},
   "outputs": [],
   "source": [
    "import gym\n",
    "import threading\n",
    "import _thread\n",
    "import numpy as np\n",
    "import time"
   ]
  },
  {
   "cell_type": "code",
   "execution_count": null,
   "metadata": {},
   "outputs": [],
   "source": [
    "def f(ida):\n",
    "    cnt = 4\n",
    "    while cnt < 10:\n",
    "        time.sleep(4)\n",
    "        a.append(ida)"
   ]
  },
  {
   "cell_type": "code",
   "execution_count": null,
   "metadata": {
    "scrolled": true
   },
   "outputs": [],
   "source": [
    "a = []\n",
    "_thread.start_new_thread(f, ((0,1),))\n",
    "_thread.start_new_thread(f, ((1,2),))\n",
    "\n",
    "\n"
   ]
  },
  {
   "cell_type": "code",
   "execution_count": null,
   "metadata": {},
   "outputs": [],
   "source": [
    "env = gym.make('CartPole-v0')\n",
    "state = env.reset()"
   ]
  },
  {
   "cell_type": "code",
   "execution_count": null,
   "metadata": {},
   "outputs": [],
   "source": [
    "a"
   ]
  },
  {
   "cell_type": "code",
   "execution_count": null,
   "metadata": {},
   "outputs": [],
   "source": [
    "import threading\n",
    "import time\n",
    "import numpy as np\n",
    "import gym\n",
    "\n",
    "class myThread (threading.Thread):\n",
    "    def __init__(self):\n",
    "        threading.Thread.__init__(self)\n",
    "        self._acts = []\n",
    "        self._rews = []\n",
    "        self._obs = []\n",
    "        \n",
    "    def run(self, batch_size = 100000):\n",
    "        env = gym.make('CartPole-v0')\n",
    "        cnt = 0\n",
    "        while True:\n",
    "            state = env.reset()\n",
    "            done = False\n",
    "            while not done:\n",
    "                self._obs.append(state)\n",
    "                action = np.random.randint(2)\n",
    "                self._acts.append(action)\n",
    "                state, rew, done, info = env.step(action)\n",
    "                self._rews.append(rew)\n",
    "                if len(self._obs) > batch_size:\n",
    "                    return\n",
    "\n"
   ]
  },
  {
   "cell_type": "code",
   "execution_count": null,
   "metadata": {},
   "outputs": [],
   "source": [
    "%%time\n",
    "n_actors = 8\n",
    "# Create new threads\n",
    "threads = [myThread() for i in range(n_actors)]\n",
    "\n",
    "# Start new Threads\n",
    "for thread in threads:\n",
    "    thread.start()\n",
    "    thread.join()\n",
    "# for thread in threads:\n",
    "    \n",
    "\n",
    "# actions = []\n",
    "# rewards = []\n",
    "# observations = []\n",
    "# for thread in threads:\n",
    "#     actions.extend(thread._acts)\n",
    "#     rewards.extend(thread._rews)\n",
    "#     observations.extend(thread._obs)\n",
    "    \n",
    "# print(len(actions), len(rewards), len(observations))"
   ]
  }
 ],
 "metadata": {
  "kernelspec": {
   "display_name": "Python 3",
   "language": "python",
   "name": "python3"
  },
  "language_info": {
   "codemirror_mode": {
    "name": "ipython",
    "version": 3
   },
   "file_extension": ".py",
   "mimetype": "text/x-python",
   "name": "python",
   "nbconvert_exporter": "python",
   "pygments_lexer": "ipython3",
   "version": "3.6.7"
  }
 },
 "nbformat": 4,
 "nbformat_minor": 2
}
