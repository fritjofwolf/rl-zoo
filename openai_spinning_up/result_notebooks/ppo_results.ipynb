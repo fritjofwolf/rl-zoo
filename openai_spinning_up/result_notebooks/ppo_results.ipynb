{
 "cells": [
  {
   "cell_type": "markdown",
   "metadata": {},
   "source": [
    "# Results for Proximal Policy Optimization"
   ]
  },
  {
   "cell_type": "code",
   "execution_count": null,
   "metadata": {},
   "outputs": [],
   "source": [
    "# change current directory to the root folder of the project"
   ]
  },
  {
   "cell_type": "code",
   "execution_count": 2,
   "metadata": {},
   "outputs": [
    {
     "name": "stdout",
     "output_type": "stream",
     "text": [
      "/home/janus/repos/rl-zoo/openai_spinning_up\n"
     ]
    }
   ],
   "source": [
    "cd .."
   ]
  },
  {
   "cell_type": "code",
   "execution_count": 3,
   "metadata": {},
   "outputs": [
    {
     "name": "stdout",
     "output_type": "stream",
     "text": [
      "The autoreload extension is already loaded. To reload it, use:\n",
      "  %reload_ext autoreload\n",
      "\n",
      "WARNING: The TensorFlow contrib module will not be included in TensorFlow 2.0.\n",
      "For more information, please see:\n",
      "  * https://github.com/tensorflow/community/blob/master/rfcs/20180907-contrib-sunset.md\n",
      "  * https://github.com/tensorflow/addons\n",
      "If you depend on functionality not listed there, please file an issue.\n",
      "\n"
     ]
    },
    {
     "name": "stderr",
     "output_type": "stream",
     "text": [
      "Using TensorFlow backend.\n"
     ]
    }
   ],
   "source": [
    "%load_ext autoreload\n",
    "%autoreload 2\n",
    "\n",
    "import gym\n",
    "from src.algorithms.ppo import PPO\n",
    "from src.visualization.visualization import visualize_episode_return, visualize_epoch_state_value_loss, visualize_epoch_entropy\n",
    "import numpy as np\n",
    "import pybullet_envs"
   ]
  },
  {
   "cell_type": "markdown",
   "metadata": {},
   "source": [
    "## CartPole-v0"
   ]
  },
  {
   "cell_type": "code",
   "execution_count": 4,
   "metadata": {
    "scrolled": true
   },
   "outputs": [
    {
     "name": "stdout",
     "output_type": "stream",
     "text": [
      "Used new models\n",
      "WARNING:tensorflow:From /home/janus/repos/rl-zoo/venv/lib/python3.6/site-packages/tensorflow/python/framework/op_def_library.py:263: colocate_with (from tensorflow.python.framework.ops) is deprecated and will be removed in a future version.\n",
      "Instructions for updating:\n",
      "Colocations handled automatically by placer.\n"
     ]
    },
    {
     "name": "stderr",
     "output_type": "stream",
     "text": [
      "/home/janus/repos/rl-zoo/venv/lib/python3.6/site-packages/gym/envs/registration.py:14: PkgResourcesDeprecationWarning: Parameters to load are deprecated.  Call .resolve and .require separately.\n",
      "  result = entry_point.load(False)\n"
     ]
    },
    {
     "name": "stdout",
     "output_type": "stream",
     "text": [
      "WARNING:tensorflow:From /home/janus/repos/rl-zoo/openai_spinning_up/src/algorithms/ppo.py:103: multinomial (from tensorflow.python.ops.random_ops) is deprecated and will be removed in a future version.\n",
      "Instructions for updating:\n",
      "Use tf.random.categorical instead.\n",
      "WARNING:tensorflow:From /home/janus/repos/rl-zoo/venv/lib/python3.6/site-packages/tensorflow/python/ops/losses/losses_impl.py:667: to_float (from tensorflow.python.ops.math_ops) is deprecated and will be removed in a future version.\n",
      "Instructions for updating:\n",
      "Use tf.cast instead.\n",
      "WARNING:tensorflow:From /home/janus/repos/rl-zoo/venv/lib/python3.6/site-packages/tensorflow/python/ops/math_ops.py:3066: to_int32 (from tensorflow.python.ops.math_ops) is deprecated and will be removed in a future version.\n",
      "Instructions for updating:\n",
      "Use tf.cast instead.\n"
     ]
    },
    {
     "data": {
      "application/vnd.jupyter.widget-view+json": {
       "model_id": "b65c2f74910842ed81e11a41ff310ac5",
       "version_major": 2,
       "version_minor": 0
      },
      "text/plain": [
       "HBox(children=(IntProgress(value=0, max=200), HTML(value='')))"
      ]
     },
     "metadata": {},
     "output_type": "display_data"
    },
    {
     "name": "stdout",
     "output_type": "stream",
     "text": [
      "\n",
      "Models saved\n"
     ]
    }
   ],
   "source": [
    "episode_returns = []\n",
    "n_runs = 1\n",
    "for i in range(n_runs):\n",
    "#     ppo_agent = PPO('CartPole-v0', model_path = '/home/janus/models/')\n",
    "    ppo_agent = PPO('CartPole-v0')\n",
    "    current_returns = ppo_agent.train(200)\n",
    "    episode_returns.append(current_returns)\n",
    "# episode_returns = []\n",
    "# epoch_state_value_loss = []\n",
    "# epoch_entropy = []\n",
    "# for i in range(n_runs):\n",
    "#     print('Started episode:', i)\n",
    "#     ep_ret, sv_loss, ent = vpg_agent.train(n_epochs=600)\n",
    "#     episode_returns.append(ep_ret)\n",
    "#     epoch_state_value_loss.append(sv_loss)\n",
    "#     epoch_entropy.append(ent)"
   ]
  },
  {
   "cell_type": "code",
   "execution_count": null,
   "metadata": {
    "scrolled": false
   },
   "outputs": [],
   "source": [
    "colors = np.random.rand(n_runs,3)\n",
    "visualize_episode_return(episode_returns, colors)\n",
    "# visualize_epoch_state_value_loss(epoch_state_value_loss, colors)\n",
    "# visualize_epoch_entropy(epoch_entropy, colors)"
   ]
  },
  {
   "cell_type": "markdown",
   "metadata": {},
   "source": [
    "## LunarLander-v2"
   ]
  },
  {
   "cell_type": "code",
   "execution_count": null,
   "metadata": {},
   "outputs": [],
   "source": [
    "episode_returns = []\n",
    "n_runs = 5\n",
    "for i in range(n_runs):\n",
    "    ppo_agent = PPO('LunarLander-v2')\n",
    "    current_returns = ppo_agent.train(2000)\n",
    "    episode_returns.append(current_returns)"
   ]
  },
  {
   "cell_type": "code",
   "execution_count": null,
   "metadata": {},
   "outputs": [],
   "source": [
    "colors = np.random.rand(n_runs,3)\n",
    "visualize_episode_return(episode_returns, colors)\n",
    "# visualize_epoch_state_value_loss(epoch_state_value_loss, colors)\n",
    "# visualize_epoch_entropy(epoch_entropy, colors)"
   ]
  },
  {
   "cell_type": "markdown",
   "metadata": {},
   "source": [
    "## Pendulum-v0"
   ]
  },
  {
   "cell_type": "code",
   "execution_count": null,
   "metadata": {
    "scrolled": false
   },
   "outputs": [],
   "source": [
    "episode_returns = []\n",
    "n_runs = 1\n",
    "for i in range(n_runs):\n",
    "    ppo_agent = PPO('Pendulum-v0')\n",
    "    current_returns = ppo_agent.train(1000)\n",
    "    episode_returns.append(current_returns)"
   ]
  },
  {
   "cell_type": "code",
   "execution_count": null,
   "metadata": {},
   "outputs": [],
   "source": [
    "colors = np.random.rand(n_runs,3)\n",
    "visualize_episode_return(episode_returns, colors)\n",
    "# visualize_epoch_state_value_loss(epoch_state_value_loss, colors)\n",
    "# visualize_epoch_entropy(epoch_entropy, colors)"
   ]
  },
  {
   "cell_type": "markdown",
   "metadata": {},
   "source": [
    "## Half-Chetaah-BulletEnv"
   ]
  },
  {
   "cell_type": "code",
   "execution_count": null,
   "metadata": {
    "scrolled": true
   },
   "outputs": [],
   "source": [
    "episode_returns = []\n",
    "n_runs = 1\n",
    "for i in range(n_runs):\n",
    "    ppo_agent = PPO('HalfCheetahBulletEnv-v0')\n",
    "    current_returns = ppo_agent.train(10000)\n",
    "    episode_returns.append(current_returns)"
   ]
  },
  {
   "cell_type": "code",
   "execution_count": null,
   "metadata": {
    "scrolled": false
   },
   "outputs": [],
   "source": [
    "colors = np.random.rand(n_runs,3)\n",
    "visualize_episode_return(episode_returns, colors)\n",
    "# visualize_epoch_state_value_loss(epoch_state_value_loss, colors)\n",
    "# visualize_epoch_entropy(epoch_entropy, colors)"
   ]
  },
  {
   "cell_type": "markdown",
   "metadata": {},
   "source": [
    "## Atari Enviroment"
   ]
  },
  {
   "cell_type": "code",
   "execution_count": null,
   "metadata": {},
   "outputs": [],
   "source": [
    "episode_returns = []\n",
    "n_runs = 1\n",
    "for i in range(n_runs):\n",
    "    ppo_agent = PPO('Breakout-v0')\n",
    "    current_returns = ppo_agent.train(100)\n",
    "    episode_returns.append(current_returns)"
   ]
  }
 ],
 "metadata": {
  "kernelspec": {
   "display_name": "Python 3",
   "language": "python",
   "name": "python3"
  },
  "language_info": {
   "codemirror_mode": {
    "name": "ipython",
    "version": 3
   },
   "file_extension": ".py",
   "mimetype": "text/x-python",
   "name": "python",
   "nbconvert_exporter": "python",
   "pygments_lexer": "ipython3",
   "version": "3.6.7"
  }
 },
 "nbformat": 4,
 "nbformat_minor": 2
}
