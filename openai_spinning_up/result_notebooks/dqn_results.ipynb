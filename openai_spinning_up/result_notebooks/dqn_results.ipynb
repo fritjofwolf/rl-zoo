{
 "cells": [
  {
   "cell_type": "markdown",
   "metadata": {},
   "source": [
    "# Results for DeepQNetwork"
   ]
  },
  {
   "cell_type": "code",
   "execution_count": 1,
   "metadata": {},
   "outputs": [
    {
     "name": "stdout",
     "output_type": "stream",
     "text": [
      "/home/janus/repos/rl-zoo/openai_spinning_up\n"
     ]
    }
   ],
   "source": [
    "cd .."
   ]
  },
  {
   "cell_type": "code",
   "execution_count": 4,
   "metadata": {},
   "outputs": [
    {
     "name": "stdout",
     "output_type": "stream",
     "text": [
      "The autoreload extension is already loaded. To reload it, use:\n",
      "  %reload_ext autoreload\n"
     ]
    }
   ],
   "source": [
    "%load_ext autoreload\n",
    "%autoreload 2\n",
    "\n",
    "import gym\n",
    "import pybullet_envs\n",
    "from src.algorithms.dqn import DQN\n",
    "from src.visualization.visualization import visualize_episode_return, visualize_epoch_state_value_loss, visualize_epoch_entropy\n",
    "import numpy as np\n",
    "import matplotlib.pyplot as plt\n",
    "%matplotlib inline"
   ]
  },
  {
   "cell_type": "markdown",
   "metadata": {},
   "source": [
    "## CartPole-v0"
   ]
  },
  {
   "cell_type": "code",
   "execution_count": 7,
   "metadata": {},
   "outputs": [
    {
     "name": "stderr",
     "output_type": "stream",
     "text": [
      "  0%|          | 1/100000 [00:00<5:24:47,  5.13it/s]"
     ]
    },
    {
     "name": "stdout",
     "output_type": "stream",
     "text": [
      "(1, 32)\n",
      "(1, 32)\n",
      "(1, 32)\n",
      "(1, 32)\n",
      "(1, 32)\n",
      "(1, 32)\n",
      "(1, 32)\n",
      "(1, 32)\n",
      "(1, 32)\n",
      "(1, 32)\n",
      "(1, 32)\n",
      "(1, 32)\n",
      "(1, 32)\n",
      "(1, 32)\n",
      "(1, 32)\n",
      "(1, 32)\n",
      "(1, 32)\n",
      "(1, 32)\n",
      "(1, 32)\n",
      "(1, 32)\n"
     ]
    },
    {
     "name": "stderr",
     "output_type": "stream",
     "text": [
      "  0%|          | 39/100000 [00:00<2:43:59, 10.16it/s]"
     ]
    },
    {
     "name": "stdout",
     "output_type": "stream",
     "text": [
      "(1, 32)\n",
      "(1, 32)\n",
      "(1, 32)\n",
      "(1, 32)\n",
      "(1, 32)\n",
      "(1, 32)\n",
      "(1, 32)\n",
      "(1, 32)\n",
      "(1, 32)\n",
      "(1, 32)\n",
      "(1, 32)\n",
      "(1, 32)\n",
      "(1, 32)\n",
      "(1, 32)\n",
      "(1, 32)\n",
      "(1, 32)\n",
      "(1, 32)\n",
      "(1, 32)\n",
      "(1, 32)\n",
      "(1, 32)\n",
      "(1, 32)\n",
      "(1, 32)\n",
      "(1, 32)\n",
      "(1, 32)\n",
      "(1, 32)\n",
      "(1, 32)\n",
      "(1, 32)\n",
      "(1, 32)\n",
      "(1, 32)\n",
      "(1, 32)\n",
      "(1, 32)\n",
      "(1, 32)\n",
      "(1, 32)\n",
      "(1, 32)\n",
      "(1, 32)\n",
      "(1, 32)\n",
      "(1, 32)\n",
      "(1, 32)\n"
     ]
    },
    {
     "name": "stderr",
     "output_type": "stream",
     "text": [
      "  0%|          | 86/100000 [00:00<1:24:05, 19.80it/s]"
     ]
    },
    {
     "name": "stdout",
     "output_type": "stream",
     "text": [
      "(1, 32)\n",
      "(1, 32)\n",
      "(1, 32)\n",
      "(1, 32)\n",
      "(1, 32)\n",
      "(1, 32)\n",
      "(1, 32)\n",
      "(1, 32)\n",
      "(1, 32)\n",
      "(1, 32)\n",
      "(1, 32)\n",
      "(1, 32)\n",
      "(1, 32)\n",
      "(1, 32)\n",
      "(1, 32)\n",
      "(1, 32)\n",
      "(1, 32)\n",
      "(1, 32)\n",
      "(1, 32)\n",
      "(1, 32)\n",
      "(1, 32)\n",
      "(1, 32)\n",
      "(1, 32)\n",
      "(1, 32)\n",
      "(1, 32)\n",
      "(1, 32)\n",
      "(1, 32)\n",
      "(1, 32)\n",
      "(1, 32)\n",
      "(1, 32)\n",
      "(1, 32)\n",
      "(1, 32)\n",
      "(1, 32)\n",
      "(1, 32)\n",
      "(1, 32)\n",
      "(1, 32)\n",
      "(1, 32)\n",
      "(1, 32)\n",
      "(1, 32)\n",
      "(1, 32)\n",
      "(1, 32)\n",
      "(1, 32)\n",
      "(1, 32)\n",
      "(1, 32)\n",
      "(1, 32)\n",
      "(1, 32)\n"
     ]
    },
    {
     "name": "stderr",
     "output_type": "stream",
     "text": [
      "  0%|          | 134/100000 [00:00<44:46, 37.17it/s]  "
     ]
    },
    {
     "name": "stdout",
     "output_type": "stream",
     "text": [
      "(1, 32)\n",
      "(1, 32)\n",
      "(1, 32)\n",
      "(1, 32)\n",
      "(1, 32)\n",
      "(1, 32)\n",
      "(1, 32)\n",
      "(1, 32)\n",
      "(1, 32)\n",
      "(1, 32)\n",
      "(1, 32)\n",
      "(1, 32)\n",
      "(1, 32)\n",
      "(1, 32)\n",
      "(1, 32)\n",
      "(1, 32)\n",
      "(1, 32)\n",
      "(1, 32)\n",
      "(1, 32)\n",
      "(1, 32)\n",
      "(1, 32)\n",
      "(1, 32)\n",
      "(1, 32)\n",
      "(1, 32)\n",
      "(1, 32)\n",
      "(1, 32)\n",
      "(1, 32)\n",
      "(1, 32)\n",
      "(1, 32)\n",
      "(1, 32)\n",
      "(1, 32)\n",
      "(1, 32)\n",
      "(1, 32)\n",
      "(1, 32)\n",
      "(1, 32)\n",
      "(1, 32)\n",
      "(1, 32)\n",
      "(1, 32)\n",
      "(1, 32)\n",
      "(1, 32)\n",
      "(1, 32)\n",
      "(1, 32)\n",
      "(1, 32)\n",
      "(1, 32)\n",
      "(1, 32)\n",
      "(1, 32)\n",
      "(1, 32)\n",
      "(1, 32)\n"
     ]
    },
    {
     "name": "stderr",
     "output_type": "stream",
     "text": [
      "  0%|          | 180/100000 [00:01<25:41, 64.74it/s]"
     ]
    },
    {
     "name": "stdout",
     "output_type": "stream",
     "text": [
      "(1, 32)\n",
      "(1, 32)\n",
      "(1, 32)\n",
      "(1, 32)\n",
      "(1, 32)\n",
      "(1, 32)\n",
      "(1, 32)\n",
      "(1, 32)\n",
      "(1, 32)\n",
      "(1, 32)\n",
      "(1, 32)\n",
      "(1, 32)\n",
      "(1, 32)\n",
      "(1, 32)\n",
      "(1, 32)\n",
      "(1, 32)\n",
      "(1, 32)\n",
      "(1, 32)\n",
      "(1, 32)\n",
      "(1, 32)\n",
      "(1, 32)\n",
      "(1, 32)\n",
      "(1, 32)\n",
      "(1, 32)\n",
      "(1, 32)\n",
      "(1, 32)\n",
      "(1, 32)\n",
      "(1, 32)\n",
      "(1, 32)\n",
      "(1, 32)\n",
      "(1, 32)\n",
      "(1, 32)\n",
      "(1, 32)\n",
      "(1, 32)\n",
      "(1, 32)\n",
      "(1, 32)\n",
      "(1, 32)\n",
      "(1, 32)\n",
      "(1, 32)\n",
      "(1, 32)\n"
     ]
    },
    {
     "name": "stderr",
     "output_type": "stream",
     "text": [
      "  0%|          | 226/100000 [00:01<16:48, 98.91it/s]"
     ]
    },
    {
     "name": "stdout",
     "output_type": "stream",
     "text": [
      "(1, 32)\n",
      "(1, 32)\n",
      "(1, 32)\n",
      "(1, 32)\n",
      "(1, 32)\n",
      "(1, 32)\n",
      "(1, 32)\n",
      "(1, 32)\n",
      "(1, 32)\n",
      "(1, 32)\n",
      "(1, 32)\n",
      "(1, 32)\n",
      "(1, 32)\n",
      "(1, 32)\n",
      "(1, 32)\n",
      "(1, 32)\n",
      "(1, 32)\n",
      "(1, 32)\n",
      "(1, 32)\n",
      "(1, 32)\n",
      "(1, 32)\n",
      "(1, 32)\n",
      "(1, 32)\n",
      "(1, 32)\n",
      "(1, 32)\n",
      "(1, 32)\n",
      "(1, 32)\n",
      "(1, 32)\n",
      "(1, 32)\n",
      "(1, 32)\n",
      "(1, 32)\n",
      "(1, 32)\n",
      "(1, 32)\n",
      "(1, 32)\n",
      "(1, 32)\n",
      "(1, 32)\n",
      "(1, 32)\n",
      "(1, 32)\n",
      "(1, 32)\n",
      "(1, 32)\n",
      "(1, 32)\n",
      "(1, 32)\n",
      "(1, 32)\n",
      "(1, 32)\n",
      "(1, 32)\n"
     ]
    },
    {
     "name": "stderr",
     "output_type": "stream",
     "text": [
      "  0%|          | 273/100000 [00:01<12:00, 138.36it/s]"
     ]
    },
    {
     "name": "stdout",
     "output_type": "stream",
     "text": [
      "(1, 32)\n",
      "(1, 32)\n",
      "(1, 32)\n",
      "(1, 32)\n",
      "(1, 32)\n",
      "(1, 32)\n",
      "(1, 32)\n",
      "(1, 32)\n",
      "(1, 32)\n",
      "(1, 32)\n",
      "(1, 32)\n",
      "(1, 32)\n",
      "(1, 32)\n",
      "(1, 32)\n",
      "(1, 32)\n",
      "(1, 32)\n",
      "(1, 32)\n",
      "(1, 32)\n",
      "(1, 32)\n",
      "(1, 32)\n",
      "(1, 32)\n",
      "(1, 32)\n",
      "(1, 32)\n",
      "(1, 32)\n",
      "(1, 32)\n",
      "(1, 32)\n",
      "(1, 32)\n",
      "(1, 32)\n",
      "(1, 32)\n",
      "(1, 32)\n",
      "(1, 32)\n",
      "(1, 32)\n",
      "(1, 32)\n",
      "(1, 32)\n",
      "(1, 32)\n",
      "(1, 32)\n",
      "(1, 32)\n",
      "(1, 32)\n",
      "(1, 32)\n",
      "(1, 32)\n",
      "(1, 32)\n",
      "(1, 32)\n"
     ]
    },
    {
     "name": "stderr",
     "output_type": "stream",
     "text": [
      "  0%|          | 318/100000 [00:01<10:07, 164.13it/s]"
     ]
    },
    {
     "name": "stdout",
     "output_type": "stream",
     "text": [
      "(1, 32)\n",
      "(1, 32)\n",
      "(1, 32)\n",
      "(1, 32)\n",
      "(1, 32)\n",
      "(1, 32)\n",
      "(1, 32)\n",
      "(1, 32)\n",
      "(1, 32)\n",
      "(1, 32)\n",
      "(1, 32)\n",
      "(1, 32)\n",
      "(1, 32)\n",
      "(1, 32)\n",
      "(1, 32)\n",
      "(1, 32)\n",
      "(1, 32)\n",
      "(1, 32)\n",
      "(1, 32)\n",
      "(1, 32)\n",
      "(1, 32)\n",
      "(1, 32)\n",
      "(1, 32)\n",
      "(1, 32)\n",
      "(1, 32)\n",
      "(1, 32)\n",
      "(1, 32)\n",
      "(1, 32)\n",
      "(1, 32)\n",
      "(1, 32)\n",
      "(1, 32)\n",
      "(1, 32)\n",
      "(1, 32)\n",
      "(1, 32)\n",
      "(1, 32)\n",
      "(1, 32)\n",
      "(1, 32)\n",
      "(1, 32)\n",
      "(1, 32)\n",
      "(1, 32)\n",
      "(1, 32)\n",
      "(1, 32)\n",
      "(1, 32)\n",
      "(1, 32)\n",
      "(1, 32)\n"
     ]
    },
    {
     "name": "stderr",
     "output_type": "stream",
     "text": [
      "  0%|          | 364/100000 [00:01<08:42, 190.61it/s]"
     ]
    },
    {
     "name": "stdout",
     "output_type": "stream",
     "text": [
      "(1, 32)\n",
      "(1, 32)\n",
      "(1, 32)\n",
      "(1, 32)\n",
      "(1, 32)\n",
      "(1, 32)\n",
      "(1, 32)\n",
      "(1, 32)\n",
      "(1, 32)\n",
      "(1, 32)\n",
      "(1, 32)\n",
      "(1, 32)\n",
      "(1, 32)\n",
      "(1, 32)\n",
      "(1, 32)\n",
      "(1, 32)\n",
      "(1, 32)\n",
      "(1, 32)\n",
      "(1, 32)\n",
      "(1, 32)\n",
      "(1, 32)\n",
      "(1, 32)\n",
      "(1, 32)\n",
      "(1, 32)\n",
      "(1, 32)\n",
      "(1, 32)\n",
      "(1, 32)\n",
      "(1, 32)\n",
      "(1, 32)\n",
      "(1, 32)\n",
      "(1, 32)\n",
      "(1, 32)\n",
      "(1, 32)\n",
      "(1, 32)\n",
      "(1, 32)\n",
      "(1, 32)\n",
      "(1, 32)\n",
      "(1, 32)\n",
      "(1, 32)\n",
      "(1, 32)\n",
      "(1, 32)\n",
      "(1, 32)\n",
      "(1, 32)\n",
      "(1, 32)\n",
      "(1, 32)\n"
     ]
    },
    {
     "name": "stderr",
     "output_type": "stream",
     "text": [
      "  0%|          | 411/100000 [00:02<08:20, 198.96it/s]"
     ]
    },
    {
     "name": "stdout",
     "output_type": "stream",
     "text": [
      "(1, 32)\n",
      "(1, 32)\n",
      "(1, 32)\n",
      "(1, 32)\n",
      "(1, 32)\n",
      "(1, 32)\n",
      "(1, 32)\n",
      "(1, 32)\n",
      "(1, 32)\n",
      "(1, 32)\n",
      "(1, 32)\n",
      "(1, 32)\n",
      "(1, 32)\n",
      "(1, 32)\n",
      "(1, 32)\n",
      "(1, 32)\n",
      "(1, 32)\n",
      "(1, 32)\n",
      "(1, 32)\n",
      "(1, 32)\n",
      "(1, 32)\n",
      "(1, 32)\n",
      "(1, 32)\n",
      "(1, 32)\n",
      "(1, 32)\n",
      "(1, 32)\n",
      "(1, 32)\n",
      "(1, 32)\n",
      "(1, 32)\n",
      "(1, 32)\n",
      "(1, 32)\n",
      "(1, 32)\n",
      "(1, 32)\n",
      "(1, 32)\n",
      "(1, 32)\n",
      "(1, 32)\n",
      "(1, 32)\n",
      "(1, 32)\n",
      "(1, 32)\n",
      "(1, 32)\n",
      "(1, 32)\n",
      "(1, 32)\n",
      "(1, 32)\n"
     ]
    },
    {
     "name": "stderr",
     "output_type": "stream",
     "text": [
      "\r",
      "  0%|          | 433/100000 [00:02<08:36, 192.86it/s]"
     ]
    },
    {
     "name": "stdout",
     "output_type": "stream",
     "text": [
      "(1, 32)\n",
      "(1, 32)\n",
      "(1, 32)\n",
      "(1, 32)\n",
      "(1, 32)\n",
      "(1, 32)\n",
      "(1, 32)\n",
      "(1, 32)\n",
      "(1, 32)\n",
      "(1, 32)\n",
      "(1, 32)\n",
      "(1, 32)\n",
      "(1, 32)\n",
      "(1, 32)\n",
      "(1, 32)\n",
      "(1, 32)\n",
      "(1, 32)\n",
      "(1, 32)\n",
      "(1, 32)\n",
      "(1, 32)\n",
      "(1, 32)\n",
      "(1, 32)\n",
      "(1, 32)\n",
      "(1, 32)\n",
      "(1, 32)\n",
      "(1, 32)\n",
      "(1, 32)\n",
      "(1, 32)\n",
      "(1, 32)\n",
      "(1, 32)\n",
      "(1, 32)\n",
      "(1, 32)\n",
      "(1, 32)\n",
      "(1, 32)\n",
      "(1, 32)\n",
      "(1, 32)\n",
      "(1, 32)\n",
      "(1, 32)\n",
      "(1, 32)\n",
      "(1, 32)\n",
      "(1, 32)\n",
      "(1, 32)\n",
      "(1, 32)\n"
     ]
    },
    {
     "name": "stderr",
     "output_type": "stream",
     "text": [
      "  0%|          | 480/100000 [00:02<08:17, 200.03it/s]"
     ]
    },
    {
     "name": "stdout",
     "output_type": "stream",
     "text": [
      "(1, 32)\n",
      "(1, 32)\n",
      "(1, 32)\n",
      "(1, 32)\n",
      "(1, 32)\n",
      "(1, 32)\n",
      "(1, 32)\n",
      "(1, 32)\n",
      "(1, 32)\n",
      "(1, 32)\n",
      "(1, 32)\n",
      "(1, 32)\n",
      "(1, 32)\n",
      "(1, 32)\n",
      "(1, 32)\n",
      "(1, 32)\n",
      "(1, 32)\n",
      "(1, 32)\n",
      "(1, 32)\n",
      "(1, 32)\n",
      "(1, 32)\n",
      "(1, 32)\n",
      "(1, 32)\n",
      "(1, 32)\n",
      "(1, 32)\n",
      "(1, 32)\n",
      "(1, 32)\n",
      "(1, 32)\n",
      "(1, 32)\n",
      "(1, 32)\n",
      "(1, 32)\n",
      "(1, 32)\n",
      "(1, 32)\n",
      "(1, 32)\n",
      "(1, 32)\n",
      "(1, 32)\n",
      "(1, 32)\n",
      "(1, 32)\n",
      "(1, 32)\n",
      "(1, 32)\n",
      "(1, 32)\n"
     ]
    },
    {
     "name": "stderr",
     "output_type": "stream",
     "text": [
      "  1%|          | 502/100000 [00:02<08:10, 202.97it/s]\n"
     ]
    },
    {
     "name": "stdout",
     "output_type": "stream",
     "text": [
      "(1, 32)\n",
      "(1, 32)\n",
      "(1, 32)\n",
      "(1, 32)\n",
      "(1, 32)\n",
      "(1, 32)\n",
      "(1, 32)\n",
      "(1, 32)\n",
      "(1, 32)\n",
      "(1, 32)\n",
      "(1, 32)\n",
      "(1, 32)\n",
      "(1, 32)\n",
      "(1, 32)\n",
      "(1, 32)\n",
      "(1, 32)\n",
      "(1, 32)\n",
      "(1, 32)\n",
      "(1, 32)\n",
      "(1, 32)\n"
     ]
    },
    {
     "ename": "KeyboardInterrupt",
     "evalue": "",
     "output_type": "error",
     "traceback": [
      "\u001b[0;31m---------------------------------------------------------------------------\u001b[0m",
      "\u001b[0;31mKeyboardInterrupt\u001b[0m                         Traceback (most recent call last)",
      "\u001b[0;32m<ipython-input-7-4998fbdbc4eb>\u001b[0m in \u001b[0;36m<module>\u001b[0;34m\u001b[0m\n\u001b[1;32m      1\u001b[0m \u001b[0mdqn_model\u001b[0m \u001b[0;34m=\u001b[0m \u001b[0mDQN\u001b[0m\u001b[0;34m(\u001b[0m\u001b[0;34m'CartPole-v0'\u001b[0m\u001b[0;34m)\u001b[0m\u001b[0;34m\u001b[0m\u001b[0;34m\u001b[0m\u001b[0m\n\u001b[0;32m----> 2\u001b[0;31m \u001b[0mresults\u001b[0m \u001b[0;34m=\u001b[0m \u001b[0mdqn_model\u001b[0m\u001b[0;34m.\u001b[0m\u001b[0mtrain\u001b[0m\u001b[0;34m(\u001b[0m\u001b[0;36m100000\u001b[0m\u001b[0;34m)\u001b[0m\u001b[0;34m\u001b[0m\u001b[0;34m\u001b[0m\u001b[0m\n\u001b[0m",
      "\u001b[0;32m~/repos/rl-zoo/openai_spinning_up/src/algorithms/dqn.py\u001b[0m in \u001b[0;36mtrain\u001b[0;34m(self, n_steps)\u001b[0m\n\u001b[1;32m     30\u001b[0m             \u001b[0mstate\u001b[0m\u001b[0;34m,\u001b[0m \u001b[0maction\u001b[0m\u001b[0;34m,\u001b[0m \u001b[0mreward\u001b[0m\u001b[0;34m,\u001b[0m \u001b[0mnew_state\u001b[0m\u001b[0;34m,\u001b[0m \u001b[0mdone\u001b[0m \u001b[0;34m=\u001b[0m \u001b[0mself\u001b[0m\u001b[0;34m.\u001b[0m\u001b[0m_sample_experience\u001b[0m\u001b[0;34m(\u001b[0m\u001b[0;34m)\u001b[0m\u001b[0;34m\u001b[0m\u001b[0;34m\u001b[0m\u001b[0m\n\u001b[1;32m     31\u001b[0m             \u001b[0mself\u001b[0m\u001b[0;34m.\u001b[0m\u001b[0m_add_sample_to_replay_buffer\u001b[0m\u001b[0;34m(\u001b[0m\u001b[0mstate\u001b[0m\u001b[0;34m,\u001b[0m \u001b[0maction\u001b[0m\u001b[0;34m,\u001b[0m \u001b[0mreward\u001b[0m\u001b[0;34m,\u001b[0m \u001b[0mnew_state\u001b[0m\u001b[0;34m,\u001b[0m \u001b[0mdone\u001b[0m\u001b[0;34m)\u001b[0m\u001b[0;34m\u001b[0m\u001b[0;34m\u001b[0m\u001b[0m\n\u001b[0;32m---> 32\u001b[0;31m             \u001b[0mself\u001b[0m\u001b[0;34m.\u001b[0m\u001b[0m_update_q_function\u001b[0m\u001b[0;34m(\u001b[0m\u001b[0;34m)\u001b[0m\u001b[0;34m\u001b[0m\u001b[0;34m\u001b[0m\u001b[0m\n\u001b[0m\u001b[1;32m     33\u001b[0m             \u001b[0mdo_evaluation\u001b[0m\u001b[0;34m,\u001b[0m \u001b[0mdo_update_target\u001b[0m \u001b[0;34m=\u001b[0m \u001b[0mself\u001b[0m\u001b[0;34m.\u001b[0m\u001b[0m_compute_flags\u001b[0m\u001b[0;34m(\u001b[0m\u001b[0;34m)\u001b[0m\u001b[0;34m\u001b[0m\u001b[0;34m\u001b[0m\u001b[0m\n\u001b[1;32m     34\u001b[0m             \u001b[0;32mif\u001b[0m \u001b[0mdo_update_target\u001b[0m\u001b[0;34m:\u001b[0m\u001b[0;34m\u001b[0m\u001b[0;34m\u001b[0m\u001b[0m\n",
      "\u001b[0;32m~/repos/rl-zoo/openai_spinning_up/src/algorithms/dqn.py\u001b[0m in \u001b[0;36m_update_q_function\u001b[0;34m(self)\u001b[0m\n\u001b[1;32m    115\u001b[0m         \u001b[0mexperience_batch\u001b[0m \u001b[0;34m=\u001b[0m \u001b[0mself\u001b[0m\u001b[0;34m.\u001b[0m\u001b[0m_sample_experience_batch\u001b[0m\u001b[0;34m(\u001b[0m\u001b[0;34m)\u001b[0m\u001b[0;34m\u001b[0m\u001b[0;34m\u001b[0m\u001b[0m\n\u001b[1;32m    116\u001b[0m         \u001b[0mstates\u001b[0m\u001b[0;34m,\u001b[0m \u001b[0mactions\u001b[0m\u001b[0;34m,\u001b[0m \u001b[0mrewards\u001b[0m\u001b[0;34m,\u001b[0m \u001b[0mnew_states\u001b[0m\u001b[0;34m,\u001b[0m \u001b[0mterminal_flags\u001b[0m \u001b[0;34m=\u001b[0m \u001b[0mself\u001b[0m\u001b[0;34m.\u001b[0m\u001b[0m_extract_data\u001b[0m\u001b[0;34m(\u001b[0m\u001b[0mexperience_batch\u001b[0m\u001b[0;34m)\u001b[0m\u001b[0;34m\u001b[0m\u001b[0;34m\u001b[0m\u001b[0m\n\u001b[0;32m--> 117\u001b[0;31m         \u001b[0mloss\u001b[0m \u001b[0;34m=\u001b[0m \u001b[0mself\u001b[0m\u001b[0;34m.\u001b[0m\u001b[0m_gradient_step\u001b[0m\u001b[0;34m(\u001b[0m\u001b[0mstates\u001b[0m\u001b[0;34m,\u001b[0m \u001b[0mactions\u001b[0m\u001b[0;34m,\u001b[0m \u001b[0mrewards\u001b[0m\u001b[0;34m,\u001b[0m \u001b[0mnew_states\u001b[0m\u001b[0;34m,\u001b[0m \u001b[0mterminal_flags\u001b[0m\u001b[0;34m)\u001b[0m\u001b[0;34m\u001b[0m\u001b[0;34m\u001b[0m\u001b[0m\n\u001b[0m\u001b[1;32m    118\u001b[0m         \u001b[0;32mreturn\u001b[0m \u001b[0mloss\u001b[0m\u001b[0;34m\u001b[0m\u001b[0;34m\u001b[0m\u001b[0m\n\u001b[1;32m    119\u001b[0m \u001b[0;34m\u001b[0m\u001b[0m\n",
      "\u001b[0;32m~/repos/rl-zoo/openai_spinning_up/src/algorithms/dqn.py\u001b[0m in \u001b[0;36m_gradient_step\u001b[0;34m(self, states, actions, rewards, new_states, terminal_flags)\u001b[0m\n\u001b[1;32m    137\u001b[0m                                     \u001b[0mrew_ph\u001b[0m\u001b[0;34m:\u001b[0m \u001b[0mnp\u001b[0m\u001b[0;34m.\u001b[0m\u001b[0marray\u001b[0m\u001b[0;34m(\u001b[0m\u001b[0mrewards\u001b[0m\u001b[0;34m)\u001b[0m\u001b[0;34m,\u001b[0m\u001b[0;34m\u001b[0m\u001b[0;34m\u001b[0m\u001b[0m\n\u001b[1;32m    138\u001b[0m                                     \u001b[0mnew_obs_ph\u001b[0m\u001b[0;34m:\u001b[0m \u001b[0mnp\u001b[0m\u001b[0;34m.\u001b[0m\u001b[0marray\u001b[0m\u001b[0;34m(\u001b[0m\u001b[0mnew_states\u001b[0m\u001b[0;34m)\u001b[0m\u001b[0;34m.\u001b[0m\u001b[0mreshape\u001b[0m\u001b[0;34m(\u001b[0m\u001b[0;34m-\u001b[0m\u001b[0;36m1\u001b[0m\u001b[0;34m,\u001b[0m \u001b[0mself\u001b[0m\u001b[0;34m.\u001b[0m\u001b[0m_obs_dim\u001b[0m\u001b[0;34m)\u001b[0m\u001b[0;34m,\u001b[0m\u001b[0;34m\u001b[0m\u001b[0;34m\u001b[0m\u001b[0m\n\u001b[0;32m--> 139\u001b[0;31m                                     \u001b[0mterminal_ph\u001b[0m\u001b[0;34m:\u001b[0m \u001b[0mnp\u001b[0m\u001b[0;34m.\u001b[0m\u001b[0marray\u001b[0m\u001b[0;34m(\u001b[0m\u001b[0mterminal_flags\u001b[0m\u001b[0;34m)\u001b[0m\u001b[0;34m\u001b[0m\u001b[0;34m\u001b[0m\u001b[0m\n\u001b[0m\u001b[1;32m    140\u001b[0m                                 })\n\u001b[1;32m    141\u001b[0m         \u001b[0;32mreturn\u001b[0m \u001b[0mloss\u001b[0m\u001b[0;34m\u001b[0m\u001b[0;34m\u001b[0m\u001b[0m\n",
      "\u001b[0;32m~/repos/rl-zoo/venv/lib/python3.6/site-packages/tensorflow/python/client/session.py\u001b[0m in \u001b[0;36mrun\u001b[0;34m(self, fetches, feed_dict, options, run_metadata)\u001b[0m\n\u001b[1;32m    927\u001b[0m     \u001b[0;32mtry\u001b[0m\u001b[0;34m:\u001b[0m\u001b[0;34m\u001b[0m\u001b[0;34m\u001b[0m\u001b[0m\n\u001b[1;32m    928\u001b[0m       result = self._run(None, fetches, feed_dict, options_ptr,\n\u001b[0;32m--> 929\u001b[0;31m                          run_metadata_ptr)\n\u001b[0m\u001b[1;32m    930\u001b[0m       \u001b[0;32mif\u001b[0m \u001b[0mrun_metadata\u001b[0m\u001b[0;34m:\u001b[0m\u001b[0;34m\u001b[0m\u001b[0;34m\u001b[0m\u001b[0m\n\u001b[1;32m    931\u001b[0m         \u001b[0mproto_data\u001b[0m \u001b[0;34m=\u001b[0m \u001b[0mtf_session\u001b[0m\u001b[0;34m.\u001b[0m\u001b[0mTF_GetBuffer\u001b[0m\u001b[0;34m(\u001b[0m\u001b[0mrun_metadata_ptr\u001b[0m\u001b[0;34m)\u001b[0m\u001b[0;34m\u001b[0m\u001b[0;34m\u001b[0m\u001b[0m\n",
      "\u001b[0;32m~/repos/rl-zoo/venv/lib/python3.6/site-packages/tensorflow/python/client/session.py\u001b[0m in \u001b[0;36m_run\u001b[0;34m(self, handle, fetches, feed_dict, options, run_metadata)\u001b[0m\n\u001b[1;32m   1150\u001b[0m     \u001b[0;32mif\u001b[0m \u001b[0mfinal_fetches\u001b[0m \u001b[0;32mor\u001b[0m \u001b[0mfinal_targets\u001b[0m \u001b[0;32mor\u001b[0m \u001b[0;34m(\u001b[0m\u001b[0mhandle\u001b[0m \u001b[0;32mand\u001b[0m \u001b[0mfeed_dict_tensor\u001b[0m\u001b[0;34m)\u001b[0m\u001b[0;34m:\u001b[0m\u001b[0;34m\u001b[0m\u001b[0;34m\u001b[0m\u001b[0m\n\u001b[1;32m   1151\u001b[0m       results = self._do_run(handle, final_targets, final_fetches,\n\u001b[0;32m-> 1152\u001b[0;31m                              feed_dict_tensor, options, run_metadata)\n\u001b[0m\u001b[1;32m   1153\u001b[0m     \u001b[0;32melse\u001b[0m\u001b[0;34m:\u001b[0m\u001b[0;34m\u001b[0m\u001b[0;34m\u001b[0m\u001b[0m\n\u001b[1;32m   1154\u001b[0m       \u001b[0mresults\u001b[0m \u001b[0;34m=\u001b[0m \u001b[0;34m[\u001b[0m\u001b[0;34m]\u001b[0m\u001b[0;34m\u001b[0m\u001b[0;34m\u001b[0m\u001b[0m\n",
      "\u001b[0;32m~/repos/rl-zoo/venv/lib/python3.6/site-packages/tensorflow/python/client/session.py\u001b[0m in \u001b[0;36m_do_run\u001b[0;34m(self, handle, target_list, fetch_list, feed_dict, options, run_metadata)\u001b[0m\n\u001b[1;32m   1326\u001b[0m     \u001b[0;32mif\u001b[0m \u001b[0mhandle\u001b[0m \u001b[0;32mis\u001b[0m \u001b[0;32mNone\u001b[0m\u001b[0;34m:\u001b[0m\u001b[0;34m\u001b[0m\u001b[0;34m\u001b[0m\u001b[0m\n\u001b[1;32m   1327\u001b[0m       return self._do_call(_run_fn, feeds, fetches, targets, options,\n\u001b[0;32m-> 1328\u001b[0;31m                            run_metadata)\n\u001b[0m\u001b[1;32m   1329\u001b[0m     \u001b[0;32melse\u001b[0m\u001b[0;34m:\u001b[0m\u001b[0;34m\u001b[0m\u001b[0;34m\u001b[0m\u001b[0m\n\u001b[1;32m   1330\u001b[0m       \u001b[0;32mreturn\u001b[0m \u001b[0mself\u001b[0m\u001b[0;34m.\u001b[0m\u001b[0m_do_call\u001b[0m\u001b[0;34m(\u001b[0m\u001b[0m_prun_fn\u001b[0m\u001b[0;34m,\u001b[0m \u001b[0mhandle\u001b[0m\u001b[0;34m,\u001b[0m \u001b[0mfeeds\u001b[0m\u001b[0;34m,\u001b[0m \u001b[0mfetches\u001b[0m\u001b[0;34m)\u001b[0m\u001b[0;34m\u001b[0m\u001b[0;34m\u001b[0m\u001b[0m\n",
      "\u001b[0;32m~/repos/rl-zoo/venv/lib/python3.6/site-packages/tensorflow/python/client/session.py\u001b[0m in \u001b[0;36m_do_call\u001b[0;34m(self, fn, *args)\u001b[0m\n\u001b[1;32m   1332\u001b[0m   \u001b[0;32mdef\u001b[0m \u001b[0m_do_call\u001b[0m\u001b[0;34m(\u001b[0m\u001b[0mself\u001b[0m\u001b[0;34m,\u001b[0m \u001b[0mfn\u001b[0m\u001b[0;34m,\u001b[0m \u001b[0;34m*\u001b[0m\u001b[0margs\u001b[0m\u001b[0;34m)\u001b[0m\u001b[0;34m:\u001b[0m\u001b[0;34m\u001b[0m\u001b[0;34m\u001b[0m\u001b[0m\n\u001b[1;32m   1333\u001b[0m     \u001b[0;32mtry\u001b[0m\u001b[0;34m:\u001b[0m\u001b[0;34m\u001b[0m\u001b[0;34m\u001b[0m\u001b[0m\n\u001b[0;32m-> 1334\u001b[0;31m       \u001b[0;32mreturn\u001b[0m \u001b[0mfn\u001b[0m\u001b[0;34m(\u001b[0m\u001b[0;34m*\u001b[0m\u001b[0margs\u001b[0m\u001b[0;34m)\u001b[0m\u001b[0;34m\u001b[0m\u001b[0;34m\u001b[0m\u001b[0m\n\u001b[0m\u001b[1;32m   1335\u001b[0m     \u001b[0;32mexcept\u001b[0m \u001b[0merrors\u001b[0m\u001b[0;34m.\u001b[0m\u001b[0mOpError\u001b[0m \u001b[0;32mas\u001b[0m \u001b[0me\u001b[0m\u001b[0;34m:\u001b[0m\u001b[0;34m\u001b[0m\u001b[0;34m\u001b[0m\u001b[0m\n\u001b[1;32m   1336\u001b[0m       \u001b[0mmessage\u001b[0m \u001b[0;34m=\u001b[0m \u001b[0mcompat\u001b[0m\u001b[0;34m.\u001b[0m\u001b[0mas_text\u001b[0m\u001b[0;34m(\u001b[0m\u001b[0me\u001b[0m\u001b[0;34m.\u001b[0m\u001b[0mmessage\u001b[0m\u001b[0;34m)\u001b[0m\u001b[0;34m\u001b[0m\u001b[0;34m\u001b[0m\u001b[0m\n",
      "\u001b[0;32m~/repos/rl-zoo/venv/lib/python3.6/site-packages/tensorflow/python/client/session.py\u001b[0m in \u001b[0;36m_run_fn\u001b[0;34m(feed_dict, fetch_list, target_list, options, run_metadata)\u001b[0m\n\u001b[1;32m   1317\u001b[0m       \u001b[0mself\u001b[0m\u001b[0;34m.\u001b[0m\u001b[0m_extend_graph\u001b[0m\u001b[0;34m(\u001b[0m\u001b[0;34m)\u001b[0m\u001b[0;34m\u001b[0m\u001b[0;34m\u001b[0m\u001b[0m\n\u001b[1;32m   1318\u001b[0m       return self._call_tf_sessionrun(\n\u001b[0;32m-> 1319\u001b[0;31m           options, feed_dict, fetch_list, target_list, run_metadata)\n\u001b[0m\u001b[1;32m   1320\u001b[0m \u001b[0;34m\u001b[0m\u001b[0m\n\u001b[1;32m   1321\u001b[0m     \u001b[0;32mdef\u001b[0m \u001b[0m_prun_fn\u001b[0m\u001b[0;34m(\u001b[0m\u001b[0mhandle\u001b[0m\u001b[0;34m,\u001b[0m \u001b[0mfeed_dict\u001b[0m\u001b[0;34m,\u001b[0m \u001b[0mfetch_list\u001b[0m\u001b[0;34m)\u001b[0m\u001b[0;34m:\u001b[0m\u001b[0;34m\u001b[0m\u001b[0;34m\u001b[0m\u001b[0m\n",
      "\u001b[0;32m~/repos/rl-zoo/venv/lib/python3.6/site-packages/tensorflow/python/client/session.py\u001b[0m in \u001b[0;36m_call_tf_sessionrun\u001b[0;34m(self, options, feed_dict, fetch_list, target_list, run_metadata)\u001b[0m\n\u001b[1;32m   1405\u001b[0m     return tf_session.TF_SessionRun_wrapper(\n\u001b[1;32m   1406\u001b[0m         \u001b[0mself\u001b[0m\u001b[0;34m.\u001b[0m\u001b[0m_session\u001b[0m\u001b[0;34m,\u001b[0m \u001b[0moptions\u001b[0m\u001b[0;34m,\u001b[0m \u001b[0mfeed_dict\u001b[0m\u001b[0;34m,\u001b[0m \u001b[0mfetch_list\u001b[0m\u001b[0;34m,\u001b[0m \u001b[0mtarget_list\u001b[0m\u001b[0;34m,\u001b[0m\u001b[0;34m\u001b[0m\u001b[0;34m\u001b[0m\u001b[0m\n\u001b[0;32m-> 1407\u001b[0;31m         run_metadata)\n\u001b[0m\u001b[1;32m   1408\u001b[0m \u001b[0;34m\u001b[0m\u001b[0m\n\u001b[1;32m   1409\u001b[0m   \u001b[0;32mdef\u001b[0m \u001b[0m_call_tf_sessionprun\u001b[0m\u001b[0;34m(\u001b[0m\u001b[0mself\u001b[0m\u001b[0;34m,\u001b[0m \u001b[0mhandle\u001b[0m\u001b[0;34m,\u001b[0m \u001b[0mfeed_dict\u001b[0m\u001b[0;34m,\u001b[0m \u001b[0mfetch_list\u001b[0m\u001b[0;34m)\u001b[0m\u001b[0;34m:\u001b[0m\u001b[0;34m\u001b[0m\u001b[0;34m\u001b[0m\u001b[0m\n",
      "\u001b[0;31mKeyboardInterrupt\u001b[0m: "
     ]
    }
   ],
   "source": [
    "dqn_model = DQN('CartPole-v0')\n",
    "results = dqn_model.train(100000)"
   ]
  },
  {
   "cell_type": "code",
   "execution_count": 22,
   "metadata": {},
   "outputs": [
    {
     "data": {
      "image/png": "[encoded data removed]",
      "text/plain": [
       "<Figure size 864x864 with 1 Axes>"
      ]
     },
     "metadata": {
      "needs_background": "light"
     },
     "output_type": "display_data"
    }
   ],
   "source": [
    "fig = plt.figure(figsize=(12,12))\n",
    "plt.plot([x[0] for x in results], [x[1] for x in results]);\n",
    "plt.plot([x[0] for x in results], [x[2] for x in results]);"
   ]
  },
  {
   "cell_type": "markdown",
   "metadata": {},
   "source": [
    "## LunarLander-v2"
   ]
  },
  {
   "cell_type": "markdown",
   "metadata": {},
   "source": [
    "## Breakout (Atari game)"
   ]
  },
  {
   "cell_type": "code",
   "execution_count": null,
   "metadata": {},
   "outputs": [],
   "source": []
  }
 ],
 "metadata": {
  "kernelspec": {
   "display_name": "Python 3",
   "language": "python",
   "name": "python3"
  },
  "language_info": {
   "codemirror_mode": {
    "name": "ipython",
    "version": 3
   },
   "file_extension": ".py",
   "mimetype": "text/x-python",
   "name": "python",
   "nbconvert_exporter": "python",
   "pygments_lexer": "ipython3",
   "version": "3.6.7"
  }
 },
 "nbformat": 4,
 "nbformat_minor": 2
}
