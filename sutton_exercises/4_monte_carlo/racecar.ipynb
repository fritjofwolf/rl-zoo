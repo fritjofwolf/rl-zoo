{
 "cells": [
  {
   "cell_type": "markdown",
   "metadata": {},
   "source": [
    "# Racetrack"
   ]
  },
  {
   "cell_type": "markdown",
   "metadata": {},
   "source": [
    "Exercise 5.10: Racetrack (programming) Consider driving a race car around a turn like those shown in\n",
    "Figure 5.5. You want to go as fast as possible, but not so fast as to run off the track. In our simplified\n",
    "racetrack, the car is at one of a discrete set of grid positions, the cells in the diagram. The velocity is\n",
    "also discrete, a number of grid cells moved horizontally and vertically per time step. The actions are\n",
    "increments to the velocity components. Each may be changed by +1, −1, or 0 in each step, for a total\n",
    "of nine (3 × 3) actions. Both velocity components are restricted to be nonnegative and less than 5,\n",
    "and they cannot both be zero except at the starting line. Each episode begins in one of the randomly\n",
    "selected start states with both velocity components zero and ends when the car crosses the finish line.\n",
    "The rewards are −1 for each step until the car crosses the finish line. If the car hits the track boundary,\n",
    "it is moved back to a random position on the starting line, both velocity components are reduced to\n",
    "zero, and the episode continues. Before updating the car’s location at each time step, check to see if\n",
    "the projected path of the car intersects the track boundary. If it intersects the finish line, the episode\n",
    "ends; if it intersects anywhere else, the car is considered to have hit the track boundary and is sent\n",
    "back to the starting line. To make the task more challenging, with probability 0.1 at each time step\n",
    "the velocity increments are both zero, independently of the intended increments. Apply a Monte Carlo control method to this task to compute the optimal policy from each starting state. Exhibit several\n",
    "trajectories following the optimal policy (but turn the noise off for these trajectories)."
   ]
  },
  {
   "cell_type": "markdown",
   "metadata": {},
   "source": [
    "To simplify the problem we consider a smooth racetrack, i.e. a rectangle with the lower right quarter missing\n",
    "The rectangle is 10 x 20 (so there are 5 starting positions)"
   ]
  },
  {
   "cell_type": "code",
   "execution_count": 2,
   "metadata": {},
   "outputs": [],
   "source": [
    "import numpy as np\n",
    "import matplotlib.pyplot as plt\n",
    "%matplotlib inline"
   ]
  },
  {
   "cell_type": "code",
   "execution_count": 4,
   "metadata": {},
   "outputs": [],
   "source": [
    "class Racetrack():\n",
    "    \n",
    "    def __init__(self):\n",
    "        self._create_intial_state()\n",
    "        \n",
    "    def update_state(self, action):\n",
    "        pass\n",
    "    \n",
    "    def _create_intial_state(self):\n",
    "        self._velocity = [0,0]\n",
    "        self._position = [np.random.randint(5), 0]"
   ]
  },
  {
   "cell_type": "code",
   "execution_count": 6,
   "metadata": {},
   "outputs": [],
   "source": [
    "def test_racetrack():\n",
    "    test_update_state()\n",
    "\n",
    "def test_update_state():\n",
    "    rt = Racetrack()\n",
    "    assert(3==3)\n",
    "    \n",
    "test_racetrack()"
   ]
  }
 ],
 "metadata": {
  "kernelspec": {
   "display_name": "Python 3",
   "language": "python",
   "name": "python3"
  },
  "language_info": {
   "codemirror_mode": {
    "name": "ipython",
    "version": 3
   },
   "file_extension": ".py",
   "mimetype": "text/x-python",
   "name": "python",
   "nbconvert_exporter": "python",
   "pygments_lexer": "ipython3",
   "version": "3.6.5"
  }
 },
 "nbformat": 4,
 "nbformat_minor": 2
}
