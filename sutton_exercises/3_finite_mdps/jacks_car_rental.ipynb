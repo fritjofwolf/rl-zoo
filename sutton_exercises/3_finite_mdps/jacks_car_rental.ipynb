{
 "cells": [
  {
   "cell_type": "code",
   "execution_count": 1,
   "metadata": {},
   "outputs": [],
   "source": [
    "import numpy as np\n",
    "import matplotlib.pyplot as plt\n",
    "%matplotlib inline"
   ]
  },
  {
   "cell_type": "code",
   "execution_count": 32,
   "metadata": {},
   "outputs": [],
   "source": [
    "def compute_action_value(state, action, v):\n",
    "    summe = -2*abs(action)\n",
    "    state[0] -= action\n",
    "    state[1] += action\n",
    "    z = 10\n",
    "    for i in range(int(state[0]+1)):\n",
    "        for j in range(int(state[1]+1)):\n",
    "            for k in range(z):\n",
    "                for l in range(z):\n",
    "                    prob = compute_exp_probs(i, 3) * compute_exp_probs(j,4)*compute_exp_probs(k,3)\\\n",
    "                        * compute_exp_probs(l,2)\n",
    "                    summe += prob * ((i+j)*10 + 0.9*v[int(min(state[0]-i+k,20)), int(min(state[1]-j+l,20))])\n",
    "    return summe\n",
    "\n",
    "def compute_exp_probs(n, l):\n",
    "    return l**n / np.math.factorial(n) * np.exp(-l)\n",
    "\n",
    "def compute_max_action(i, j, v):\n",
    "    max_action = 0\n",
    "    max_value = 0\n",
    "    for k in range(max(-j, -5), min(i,5)+1):\n",
    "        tmp = compute_action_value([i,j], k, v)\n",
    "        if tmp > max_value:\n",
    "            max_value = tmp\n",
    "            max_action = k\n",
    "    return max_action"
   ]
  },
  {
   "cell_type": "code",
   "execution_count": 33,
   "metadata": {},
   "outputs": [],
   "source": [
    "def policy_iteration():\n",
    "    v = np.zeros((21,21))\n",
    "    p = np.zeros((21,21))\n",
    "    unstable = True\n",
    "    while unstable:\n",
    "        plt.imshow(p, cmap='hot', interpolation='nearest')\n",
    "        plt.show()\n",
    "        print('new cycle')\n",
    "        v = policy_evaluation(v, p)\n",
    "        print('after policy evaluation')\n",
    "        p, unstable = policy_improvement(v, p)\n",
    "    return v, p\n",
    "\n",
    "def policy_improvement(v, p):\n",
    "    unstable = False\n",
    "    for i in range(21):\n",
    "        for j in range(21):\n",
    "            p_old = p[i,j]\n",
    "            p[i,j] = compute_max_action(i, j, v)\n",
    "            if p_old != p[i,j]:\n",
    "                unstable = True\n",
    "    return p, unstable\n",
    "\n",
    "def policy_evaluation(v, p):\n",
    "    delta = 2\n",
    "    while delta > 10**-1:\n",
    "        print('Delta is:', delta)\n",
    "        delta = 0\n",
    "        for i in range(21):\n",
    "            for j in range(21):\n",
    "                old_value = v[i,j]\n",
    "                v[i,j] = compute_action_value([i,j], p[i,j], v)\n",
    "                delta = max(delta, abs(old_value-v[i,j]))\n",
    "        \n",
    "    return v"
   ]
  },
  {
   "cell_type": "code",
   "execution_count": 34,
   "metadata": {
    "scrolled": true
   },
   "outputs": [
    {
     "data": {
      "image/png": "[encoded data removed]",
      "text/plain": [
       "<Figure size 432x288 with 1 Axes>"
      ]
     },
     "metadata": {},
     "output_type": "display_data"
    },
    {
     "name": "stdout",
     "output_type": "stream",
     "text": [
      "new cycle\n",
      "Delta is: 2\n",
      "Delta is: 188.6437855155624\n",
      "Delta is: 125.03153493985806\n",
      "Delta is: 74.98685750527378\n",
      "Delta is: 44.72126450999582\n",
      "Delta is: 24.929439842571355\n",
      "Delta is: 12.994214608673019\n",
      "Delta is: 6.420390348236992\n",
      "Delta is: 3.041088061887592\n",
      "Delta is: 1.390030308157975\n",
      "Delta is: 0.619253212167564\n",
      "Delta is: 0.26930110516514105\n",
      "Delta is: 0.1155801774353904\n",
      "after policy evaluation\n"
     ]
    },
    {
     "data": {
      "image/png": "[encoded data removed]",
      "text/plain": [
       "<Figure size 432x288 with 1 Axes>"
      ]
     },
     "metadata": {},
     "output_type": "display_data"
    },
    {
     "name": "stdout",
     "output_type": "stream",
     "text": [
      "new cycle\n",
      "Delta is: 2\n",
      "Delta is: 243.31975099324399\n",
      "Delta is: 25.46480112077228\n",
      "Delta is: 15.94201609002937\n",
      "Delta is: 11.192097077630422\n",
      "Delta is: 6.916540824294771\n",
      "Delta is: 4.186320914143664\n",
      "Delta is: 2.4963124699172\n",
      "Delta is: 1.472154489318541\n",
      "Delta is: 0.8521944337703644\n",
      "Delta is: 0.48588202569521854\n",
      "Delta is: 0.27394362147231277\n",
      "Delta is: 0.15316964646490305\n",
      "after policy evaluation\n"
     ]
    },
    {
     "data": {
      "image/png": "[encoded data removed]",
      "text/plain": [
       "<Figure size 432x288 with 1 Axes>"
      ]
     },
     "metadata": {},
     "output_type": "display_data"
    },
    {
     "name": "stdout",
     "output_type": "stream",
     "text": [
      "new cycle\n",
      "Delta is: 2\n",
      "Delta is: 14.948462944419646\n",
      "Delta is: 7.810030282064702\n",
      "Delta is: 4.30811069961743\n",
      "Delta is: 2.5303323248139122\n",
      "Delta is: 1.4992372572343697\n",
      "Delta is: 0.882525670192706\n",
      "Delta is: 0.514155347480937\n",
      "Delta is: 0.2969350322464379\n",
      "Delta is: 0.17023489906756595\n",
      "after policy evaluation\n"
     ]
    },
    {
     "data": {
      "image/png": "[encoded data removed]",
      "text/plain": [
       "<Figure size 432x288 with 1 Axes>"
      ]
     },
     "metadata": {},
     "output_type": "display_data"
    },
    {
     "name": "stdout",
     "output_type": "stream",
     "text": [
      "new cycle\n",
      "Delta is: 2\n",
      "Delta is: 0.9552646093717954\n",
      "Delta is: 0.30266709916134005\n",
      "Delta is: 0.16632341356188363\n",
      "after policy evaluation\n"
     ]
    },
    {
     "data": {
      "image/png": "[encoded data removed]",
      "text/plain": [
       "<Figure size 432x288 with 1 Axes>"
      ]
     },
     "metadata": {},
     "output_type": "display_data"
    },
    {
     "name": "stdout",
     "output_type": "stream",
     "text": [
      "new cycle\n",
      "Delta is: 2\n",
      "after policy evaluation\n"
     ]
    }
   ],
   "source": [
    "v, p = policy_iteration()"
   ]
  },
  {
   "cell_type": "code",
   "execution_count": 13,
   "metadata": {},
   "outputs": [
    {
     "data": {
      "image/png": "[encoded data removed]",
      "text/plain": [
       "<Figure size 432x288 with 1 Axes>"
      ]
     },
     "metadata": {},
     "output_type": "display_data"
    }
   ],
   "source": [
    "plt.imshow(p, cmap='hot', interpolation='nearest')\n",
    "plt.show()"
   ]
  },
  {
   "cell_type": "code",
   "execution_count": 35,
   "metadata": {},
   "outputs": [
    {
     "data": {
      "image/png": "[encoded data removed]",
      "text/plain": [
       "<Figure size 432x288 with 1 Axes>"
      ]
     },
     "metadata": {},
     "output_type": "display_data"
    }
   ],
   "source": [
    "plt.imshow(v, cmap='hot', interpolation='nearest')\n",
    "plt.show()"
   ]
  },
  {
   "cell_type": "code",
   "execution_count": 31,
   "metadata": {},
   "outputs": [
    {
     "data": {
      "text/plain": [
       "-5.0"
      ]
     },
     "execution_count": 31,
     "metadata": {},
     "output_type": "execute_result"
    }
   ],
   "source": [
    "p[0,20]"
   ]
  }
 ],
 "metadata": {
  "kernelspec": {
   "display_name": "Python 3",
   "language": "python",
   "name": "python3"
  },
  "language_info": {
   "codemirror_mode": {
    "name": "ipython",
    "version": 3
   },
   "file_extension": ".py",
   "mimetype": "text/x-python",
   "name": "python",
   "nbconvert_exporter": "python",
   "pygments_lexer": "ipython3",
   "version": "3.6.5"
  }
 },
 "nbformat": 4,
 "nbformat_minor": 2
}
