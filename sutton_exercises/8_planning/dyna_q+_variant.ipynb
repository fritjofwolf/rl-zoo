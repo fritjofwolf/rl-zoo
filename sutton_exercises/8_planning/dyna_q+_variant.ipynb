{
 "cells": [
  {
   "cell_type": "code",
   "execution_count": 2,
   "metadata": {},
   "outputs": [],
   "source": [
    "import numpy as np\n",
    "import matplotlib.pyplot as plt\n",
    "%matplotlib inline"
   ]
  },
  {
   "cell_type": "code",
   "execution_count": 10,
   "metadata": {},
   "outputs": [],
   "source": [
    "class ShortcutGridworld():\n",
    "    \n",
    "    def __init__(self):\n",
    "        self._size = [9,6]\n",
    "        self._start = [3,0]\n",
    "        self._end = [8,5]\n",
    "        self._forbidden_states = [[i,2] for i in range(1,9)]\n",
    "        self.reset()\n",
    "        \n",
    "    def reset(self):\n",
    "        self._current_position = self._start\n",
    "        return self._current_position\n",
    "        \n",
    "    def create_shortcut(self):\n",
    "        self._forbidden_states.remove([8,2])\n",
    "        \n",
    "    def move(self, move):\n",
    "        new_position = self._calc_new_position(move)\n",
    "        new_position = self._cap_new_position(new_position)\n",
    "        self._current_position = new_position\n",
    "        is_over = self._is_game_over(new_position)\n",
    "        if is_over:\n",
    "            reward = 1\n",
    "        else:\n",
    "            reward = 0\n",
    "        return reward, new_position, is_over\n",
    "    \n",
    "    def _is_game_over(self, position):\n",
    "        return (position == self._end).all()\n",
    "        \n",
    "    def _calc_new_position(self, move):\n",
    "        new_position = self._current_position + np.array(move)\n",
    "        if list(new_position) in self._forbidden_states:\n",
    "            new_position = self._current_position\n",
    "        return new_position\n",
    "        \n",
    "    def _cap_new_position(self, new_position):\n",
    "        new_position[0] = min(new_position[0], self._size[0]-1)\n",
    "        new_position[0] = max(new_position[0], 0)\n",
    "        new_position[1] = min(new_position[1], self._size[1]-1)\n",
    "        new_position[1] = max(new_position[1], 0)\n",
    "        return new_position"
   ]
  },
  {
   "cell_type": "code",
   "execution_count": 20,
   "metadata": {},
   "outputs": [],
   "source": [
    "def choose_action(q, state, eps):\n",
    "    if np.random.rand() < eps:\n",
    "        return np.random.randint(4)\n",
    "    else:\n",
    "        return np.argmax(q[state[0], state[1],:])\n",
    "    \n",
    "def parse_action(action):\n",
    "    parsed_actions_simple = [[0,1], [1,0], [0,-1],[-1,0]]\n",
    "    return parsed_actions_simple[action]"
   ]
  },
  {
   "cell_type": "code",
   "execution_count": 30,
   "metadata": {},
   "outputs": [
    {
     "ename": "ValueError",
     "evalue": "setting an array element with a sequence.",
     "output_type": "error",
     "traceback": [
      "\u001b[0;31m---------------------------------------------------------------------------\u001b[0m",
      "\u001b[0;31mValueError\u001b[0m                                Traceback (most recent call last)",
      "\u001b[0;32m<ipython-input-30-51c02d1d357d>\u001b[0m in \u001b[0;36m<module>\u001b[0;34m()\u001b[0m\n\u001b[1;32m     19\u001b[0m         \u001b[0mr\u001b[0m\u001b[0;34m,\u001b[0m \u001b[0mnext_state\u001b[0m\u001b[0;34m,\u001b[0m \u001b[0mdone\u001b[0m \u001b[0;34m=\u001b[0m \u001b[0menv\u001b[0m\u001b[0;34m.\u001b[0m\u001b[0mmove\u001b[0m\u001b[0;34m(\u001b[0m\u001b[0mparse_action\u001b[0m\u001b[0;34m(\u001b[0m\u001b[0maction\u001b[0m\u001b[0;34m)\u001b[0m\u001b[0;34m)\u001b[0m\u001b[0;34m\u001b[0m\u001b[0m\n\u001b[1;32m     20\u001b[0m         \u001b[0mq\u001b[0m\u001b[0;34m[\u001b[0m\u001b[0mstate\u001b[0m\u001b[0;34m[\u001b[0m\u001b[0;36m0\u001b[0m\u001b[0;34m]\u001b[0m\u001b[0;34m,\u001b[0m \u001b[0mstate\u001b[0m\u001b[0;34m[\u001b[0m\u001b[0;36m1\u001b[0m\u001b[0;34m]\u001b[0m\u001b[0;34m,\u001b[0m \u001b[0maction\u001b[0m\u001b[0;34m]\u001b[0m \u001b[0;34m+=\u001b[0m \u001b[0malpha\u001b[0m \u001b[0;34m*\u001b[0m \u001b[0;34m(\u001b[0m\u001b[0mr\u001b[0m \u001b[0;34m+\u001b[0m \u001b[0mgamma\u001b[0m \u001b[0;34m*\u001b[0m \u001b[0mnp\u001b[0m\u001b[0;34m.\u001b[0m\u001b[0mmax\u001b[0m\u001b[0;34m(\u001b[0m\u001b[0mq\u001b[0m\u001b[0;34m[\u001b[0m\u001b[0mnext_state\u001b[0m\u001b[0;34m[\u001b[0m\u001b[0;36m0\u001b[0m\u001b[0;34m]\u001b[0m\u001b[0;34m,\u001b[0m \u001b[0mnext_state\u001b[0m\u001b[0;34m[\u001b[0m\u001b[0;36m1\u001b[0m\u001b[0;34m]\u001b[0m\u001b[0;34m,\u001b[0m \u001b[0;34m:\u001b[0m\u001b[0;34m]\u001b[0m\u001b[0;34m)\u001b[0m                                                   \u001b[0;34m-\u001b[0m \u001b[0mq\u001b[0m\u001b[0;34m[\u001b[0m\u001b[0mstate\u001b[0m\u001b[0;34m[\u001b[0m\u001b[0;36m0\u001b[0m\u001b[0;34m]\u001b[0m\u001b[0;34m,\u001b[0m \u001b[0mstate\u001b[0m\u001b[0;34m[\u001b[0m\u001b[0;36m1\u001b[0m\u001b[0;34m]\u001b[0m\u001b[0;34m,\u001b[0m \u001b[0maction\u001b[0m\u001b[0;34m]\u001b[0m\u001b[0;34m)\u001b[0m\u001b[0;34m\u001b[0m\u001b[0m\n\u001b[0;32m---> 21\u001b[0;31m         \u001b[0mmodel\u001b[0m\u001b[0;34m[\u001b[0m\u001b[0mstate\u001b[0m\u001b[0;34m[\u001b[0m\u001b[0;36m0\u001b[0m\u001b[0;34m]\u001b[0m\u001b[0;34m,\u001b[0m\u001b[0mstate\u001b[0m\u001b[0;34m[\u001b[0m\u001b[0;36m1\u001b[0m\u001b[0;34m]\u001b[0m\u001b[0;34m,\u001b[0m\u001b[0maction\u001b[0m\u001b[0;34m]\u001b[0m \u001b[0;34m=\u001b[0m \u001b[0;34m(\u001b[0m\u001b[0mnext_state\u001b[0m\u001b[0;34m[\u001b[0m\u001b[0;36m0\u001b[0m\u001b[0;34m]\u001b[0m\u001b[0;34m,\u001b[0m\u001b[0mnext_state\u001b[0m\u001b[0;34m[\u001b[0m\u001b[0;36m1\u001b[0m\u001b[0;34m]\u001b[0m\u001b[0;34m,\u001b[0m\u001b[0mr\u001b[0m\u001b[0;34m)\u001b[0m\u001b[0;34m\u001b[0m\u001b[0m\n\u001b[0m\u001b[1;32m     22\u001b[0m         \u001b[0mlast_state_actions\u001b[0m\u001b[0;34m.\u001b[0m\u001b[0mappend\u001b[0m\u001b[0;34m(\u001b[0m\u001b[0;34m(\u001b[0m\u001b[0mstate\u001b[0m\u001b[0;34m[\u001b[0m\u001b[0;36m0\u001b[0m\u001b[0;34m]\u001b[0m\u001b[0;34m,\u001b[0m \u001b[0mstate\u001b[0m\u001b[0;34m[\u001b[0m\u001b[0;36m1\u001b[0m\u001b[0;34m]\u001b[0m\u001b[0;34m,\u001b[0m \u001b[0maction\u001b[0m\u001b[0;34m)\u001b[0m\u001b[0;34m)\u001b[0m\u001b[0;34m\u001b[0m\u001b[0m\n\u001b[1;32m     23\u001b[0m         \u001b[0mstate\u001b[0m \u001b[0;34m=\u001b[0m \u001b[0mnext_state\u001b[0m\u001b[0;34m\u001b[0m\u001b[0m\n",
      "\u001b[0;31mValueError\u001b[0m: setting an array element with a sequence."
     ]
    }
   ],
   "source": [
    "model = np.zeros((9,6,4))\n",
    "q = np.zeros((9,6,4))\n",
    "cum_reward = [0]\n",
    "timestep = 0\n",
    "last_state_actions = []\n",
    "env = ShortcutGridworld()\n",
    "n = 10\n",
    "\n",
    "for i in range(1000):\n",
    "    if timestep == 20000:\n",
    "        env.create_shortcut()\n",
    "    state = env.reset()\n",
    "    done = False\n",
    "    gamma = 0.9\n",
    "    alpha = 0.5\n",
    "    eps = 0.1\n",
    "    while not done:\n",
    "        action = choose_action(q, state, eps)\n",
    "        r, next_state, done = env.move(parse_action(action))\n",
    "        q[state[0], state[1], action] += alpha * (r + gamma * np.max(q[next_state[0], next_state[1], :]) \\\n",
    "                                                  - q[state[0], state[1], action])\n",
    "        model[state[0],state[1],action] = (next_state[0],next_state[1],r)\n",
    "        last_state_actions.append((state[0], state[1], action))\n",
    "        state = next_state\n",
    "        cum_reward.append(cum_reward[-1]+r) \n",
    "        timestep += 1\n",
    "        for j in range(n):\n",
    "            idx = np.random.randint(len(last_state_actions))\n",
    "            sim_state = [last_state_actions[idx][0], last_state_actions[idx][1]]\n",
    "            sim_action = last_state_actions[idx][2]\n",
    "            next_state = [model[sim_state[0], sim_state[1], sim_action][0], model[sim_state[0], sim_state[1], sim_action][1]]\n",
    "            r = model[sim_state[0], sim_state[1], sim_action][2]\n",
    "            q[sim_state[0], sim_state[1], sim_action] += alpha * (r + gamma * np.max(q[next_state[0], next_state[1], :]) \\\n",
    "                                                  - q[state[0], state[1], action])\n",
    "            "
   ]
  },
  {
   "cell_type": "code",
   "execution_count": null,
   "metadata": {},
   "outputs": [],
   "source": [
    "class QLearning():\n",
    "    \n",
    "    def __init__(self, alpha, gamma, epsilon):\n",
    "        self._alpha = alpha\n",
    "        self._gamma = gamma\n",
    "        self._epsilon = epsilon\n",
    "        self._q = np.zeros(0)\n",
    "        \n",
    "    def choose_action(q, state):\n",
    "        if np.random.rand() < self._epsilon:\n",
    "            return np.random.randint(4)\n",
    "        else:\n",
    "            return np.argmax(q[state[0], state[1],:])\n",
    "        \n",
    "    def train(self, n_episodes):\n",
    "        env = ShortcutGridworld()\n",
    "        for _ in range(n_episodes):\n",
    "            self._train_one_episode(env)\n",
    "    \n",
    "    def train_one_episode(self, env):\n",
    "        state = env.reset()\n",
    "        done = False\n",
    "        while not done:\n",
    "            action = choose_action(q, state)\n",
    "            r, next_state, done = env.move(parse_action(action))\n",
    "            self._update_q_function(state, action, reward, next_state)\n",
    "            state = next_state\n",
    "    \n",
    "    def _update_q_function(self, state, action, reward, next_state)\n",
    "        self._q[state[0], state[1], action] += self._alpha * (reward + self._gamma * np.max(self._q[next_state[0],\\\n",
    "                                                next_state[1], :]) - self._q[state[0], state[1], action])"
   ]
  },
  {
   "cell_type": "code",
   "execution_count": 29,
   "metadata": {},
   "outputs": [
    {
     "data": {
      "text/plain": [
       "[<matplotlib.lines.Line2D at 0x7f08ecb52be0>]"
      ]
     },
     "execution_count": 29,
     "metadata": {},
     "output_type": "execute_result"
    },
    {
     "data": {
      "image/png": "[encoded data removed]",
      "text/plain": [
       "<Figure size 864x864 with 1 Axes>"
      ]
     },
     "metadata": {},
     "output_type": "display_data"
    }
   ],
   "source": [
    "fig = plt.figure(figsize=(12,12))\n",
    "plt.plot(range(len(cum_reward)), cum_reward)"
   ]
  },
  {
   "cell_type": "code",
   "execution_count": null,
   "metadata": {},
   "outputs": [],
   "source": []
  }
 ],
 "metadata": {
  "kernelspec": {
   "display_name": "Python 3",
   "language": "python",
   "name": "python3"
  },
  "language_info": {
   "codemirror_mode": {
    "name": "ipython",
    "version": 3
   },
   "file_extension": ".py",
   "mimetype": "text/x-python",
   "name": "python",
   "nbconvert_exporter": "python",
   "pygments_lexer": "ipython3",
   "version": "3.6.5"
  }
 },
 "nbformat": 4,
 "nbformat_minor": 2
}
