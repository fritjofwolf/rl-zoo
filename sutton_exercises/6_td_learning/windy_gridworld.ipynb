{
 "cells": [
  {
   "cell_type": "markdown",
   "metadata": {},
   "source": [
    "# Windy Gridworld"
   ]
  },
  {
   "cell_type": "markdown",
   "metadata": {},
   "source": [
    "Reproducing the results from Example 6.5, td control with SARSA"
   ]
  },
  {
   "cell_type": "code",
   "execution_count": 9,
   "metadata": {},
   "outputs": [],
   "source": [
    "import numpy as np"
   ]
  },
  {
   "cell_type": "code",
   "execution_count": 12,
   "metadata": {},
   "outputs": [],
   "source": [
    "class WindyGridworld():\n",
    "    \n",
    "    def __init__(self, size, start, end, wind):\n",
    "        self._size = size\n",
    "        self._start = start\n",
    "        self._end = end\n",
    "        self._wind = wind\n",
    "        self._current_position = np.array(start)\n",
    "        \n",
    "    def reset(self):\n",
    "        self._current_position = self._start\n",
    "        \n",
    "    def move(self, move):\n",
    "        new_position = self._calc_new_position(move)\n",
    "        new_position = self._calc_new_position(new_position)\n",
    "        self._current_position = new_position\n",
    "        is_over = self._is_game_over(new_position)\n",
    "        return -1, new_position, is_over\n",
    "    \n",
    "    def _is_game_over(self, position):\n",
    "        return position == self._end\n",
    "        \n",
    "    def _calc_new_position(self, move):\n",
    "        new_position = self._current_position + move\n",
    "        new_position[1] += self._wind[self._current_position[1]]\n",
    "        return new_position\n",
    "        \n",
    "    def _cap_new_position(self, new_position):\n",
    "        new_position[0] = max(new_position[0], self._size[0]-1)\n",
    "        new_position[0] = min(new_position[0], 0)\n",
    "        new_position[1] = max(new_position[1], self._size[1]-1)\n",
    "        new_position[1] = min(new_position[1], 0)\n",
    "        return new_position\n",
    "    "
   ]
  },
  {
   "cell_type": "code",
   "execution_count": null,
   "metadata": {},
   "outputs": [],
   "source": []
  },
  {
   "cell_type": "code",
   "execution_count": 15,
   "metadata": {},
   "outputs": [],
   "source": [
    "def test_windy_grid_world():\n",
    "    wgw = WindyGridworld((4,3),(0,0),(1,1),[0,1,2,0])\n",
    "    assert(wgw.move((1,1) == (-1,(1,1),1)))\n",
    "    assert(wgw.move((1,0) == (-1, (2,2),0)))\n",
    "    assert(wgw.move((1,0) == (-1, (3,3),0)))\n",
    "    \n",
    "def test_all():\n",
    "    test_windy_grid_world()\n",
    "    \n",
    "test_all()"
   ]
  }
 ],
 "metadata": {
  "kernelspec": {
   "display_name": "Python 3",
   "language": "python",
   "name": "python3"
  },
  "language_info": {
   "codemirror_mode": {
    "name": "ipython",
    "version": 3
   },
   "file_extension": ".py",
   "mimetype": "text/x-python",
   "name": "python",
   "nbconvert_exporter": "python",
   "pygments_lexer": "ipython3",
   "version": "3.6.5"
  }
 },
 "nbformat": 4,
 "nbformat_minor": 2
}
