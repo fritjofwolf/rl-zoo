{
 "cells": [
  {
   "cell_type": "code",
   "execution_count": 2,
   "metadata": {},
   "outputs": [],
   "source": [
    "import numpy as np\n",
    "import matplotlib.pyplot as plt\n",
    "%matplotlib inline"
   ]
  },
  {
   "cell_type": "code",
   "execution_count": 22,
   "metadata": {},
   "outputs": [],
   "source": [
    "def draw_card():\n",
    "    card = np.random.randint(1,14)\n",
    "    card = max(10, card)\n",
    "    return card\n",
    "\n",
    "def initialize_state():\n",
    "    players_card = np.random.randint(12,22)\n",
    "    dealers_card = draw_card()\n",
    "    usable_ace = np.random.rand() < 0.5\n",
    "    return (players_card, dealers_card, usable_ace)\n",
    "\n",
    "def update_value_function(v, returns):\n",
    "    for i in range(2):\n",
    "        for j in range(10):\n",
    "            for k in range(10):\n",
    "                v[i,j,k] = np.mean(returns[i,j,k])\n",
    "    return v\n",
    "\n",
    "def simulate_game(initial_state):\n",
    "    current_state = initial_state\n",
    "    states = [initial_state]\n",
    "    rewards = []\n",
    "    while current_state[0] < 20:\n",
    "        \n",
    "    \n",
    "\n",
    "def update_returns(states, rewards, returns):\n",
    "    return_value = 0\n",
    "    for r,s in zip(rewards[::-1], states[::-1]):\n",
    "        return_value += r\n",
    "        returns[s].append(return_value)\n",
    "    return returns\n",
    "        \n",
    "def initialize_returns():\n",
    "    returns = np.zeros((2,10,10), dtype='object')\n",
    "    for i in range(2):\n",
    "        for j in range(10):\n",
    "            for k in range(10):\n",
    "                returns[i,j,k] = []\n",
    "    return returns\n",
    "\n",
    "def play_episode(v, returns):\n",
    "    state = initialize_state()\n",
    "    states, rewards = simulate_game(state)\n",
    "    returns = update_returns(state, rewards, returns)\n",
    "    v = update_value_function(v, returns)\n",
    "    return v, returns"
   ]
  },
  {
   "cell_type": "code",
   "execution_count": 19,
   "metadata": {},
   "outputs": [],
   "source": [
    "def mc_prediction(n_episodes):\n",
    "    v = np.zeros((2,10,10))\n",
    "    returns = initialize_returns()\n",
    "    for i in range(n_episodes):\n",
    "        v, returns = play_episode(v, returns)\n",
    "    return v"
   ]
  },
  {
   "cell_type": "code",
   "execution_count": 18,
   "metadata": {},
   "outputs": [],
   "source": [
    "v = mc_prediction(1000)"
   ]
  }
 ],
 "metadata": {
  "kernelspec": {
   "display_name": "Python 3",
   "language": "python",
   "name": "python3"
  },
  "language_info": {
   "codemirror_mode": {
    "name": "ipython",
    "version": 3
   },
   "file_extension": ".py",
   "mimetype": "text/x-python",
   "name": "python",
   "nbconvert_exporter": "python",
   "pygments_lexer": "ipython3",
   "version": "3.6.5"
  }
 },
 "nbformat": 4,
 "nbformat_minor": 2
}
