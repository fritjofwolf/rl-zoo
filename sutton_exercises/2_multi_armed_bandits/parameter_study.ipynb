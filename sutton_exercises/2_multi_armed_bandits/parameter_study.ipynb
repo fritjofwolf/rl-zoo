{
 "cells": [
  {
   "cell_type": "markdown",
   "metadata": {},
   "source": [
    "# Parameter study for 10-armed bandit"
   ]
  },
  {
   "cell_type": "markdown",
   "metadata": {},
   "source": [
    "Exercise 2.9 (programming) Make a figure analogous to Figure 2.6 for the non-stationary case outlined\n",
    "in Exercise 2.5. Include the constant-step-size ε-greedy algorithm with α = 0.1. Use runs of 200,000\n",
    "steps and, as a performance measure for each algorithm and parameter setting, use the average reward\n",
    "over the last 100,000 steps."
   ]
  },
  {
   "cell_type": "code",
   "execution_count": 1,
   "metadata": {},
   "outputs": [],
   "source": [
    "import numpy as np\n",
    "import matplotlib.pyplot as plt\n",
    "%matplotlib inline"
   ]
  },
  {
   "cell_type": "code",
   "execution_count": 2,
   "metadata": {},
   "outputs": [],
   "source": [
    "class MultiArmedBandit():\n",
    "    \n",
    "    def __init__(self):\n",
    "        self._means = np.zeros(10)\n",
    "        \n",
    "    def pull_arm(self, arm):\n",
    "        reward = np.random.randn() + self._means[arm]\n",
    "        self._means += 0.1 * np.random.randn(10)\n",
    "        return reward"
   ]
  },
  {
   "cell_type": "code",
   "execution_count": 3,
   "metadata": {},
   "outputs": [],
   "source": [
    "class GradientBandit():\n",
    "    \n",
    "    def __init__(self, learning_rate):\n",
    "        self._preferences = np.zeros(10)\n",
    "        self._probs = 0.1 * np.ones(10)\n",
    "        self._average_reward = 0\n",
    "        self._learning_rate = learning_rate\n",
    "        \n",
    "    def compute_action(self):\n",
    "        action = np.random.choice(range(10), p=self._probs)\n",
    "        return action\n",
    "    \n",
    "    def update_parameters(self, action, reward):\n",
    "        self._update_average_reward(reward)\n",
    "        self._update_preferences(action, reward)\n",
    "        self._update_probabilities()\n",
    "        \n",
    "    def _update_preferences(self, action, reward): \n",
    "        for i in range(10):\n",
    "            if i == action:\n",
    "                self._preferences[i] += self._learning_rate * (reward - self._average_reward) * (1 - self._probs[i])\n",
    "            else:\n",
    "                self._preferences[i] -= self._learning_rate * (reward - self._average_reward) * self._probs[i]\n",
    "    \n",
    "    def _update_probabilities(self):\n",
    "        exp_pref = np.exp(self._preferences)\n",
    "        self._probs = exp_pref / np.sum(exp_pref)\n",
    "        \n",
    "    def _update_average_reward(self, reward):\n",
    "        self._average_reward += 0.1 * (reward-self._average_reward)"
   ]
  },
  {
   "cell_type": "code",
   "execution_count": 4,
   "metadata": {},
   "outputs": [],
   "source": [
    "class UCB():\n",
    "    \n",
    "    def __init__(self, c):\n",
    "        self._c = c\n",
    "        self._selection_cnt = np.ones(10)\n",
    "        self._action_values = np.zeros(10)\n",
    "        \n",
    "    def compute_action(self):\n",
    "        t = np.sum(self._selection_cnt)\n",
    "        upper_confidence_bounds = self._action_values + self._c * np.sqrt(t / self._selection_cnt)\n",
    "        return np.argmax(upper_confidence_bounds)\n",
    "    \n",
    "    def update_parameters(self, action, reward):\n",
    "        self._action_values[action] += 0.1 * (reward - self._action_values[action])"
   ]
  },
  {
   "cell_type": "code",
   "execution_count": 5,
   "metadata": {},
   "outputs": [],
   "source": [
    "class GreedyOptimisticInitialValues():\n",
    "    \n",
    "    def __init__(self, initial_values):\n",
    "        self._action_values = initial_values\n",
    "        \n",
    "    def compute_action(self):\n",
    "        return np.argmax(self._action_values)\n",
    "    \n",
    "    def update_parameters(self, action, reward):\n",
    "        self._action_values[action] += 0.1 * (reward - self._action_values[action])"
   ]
  },
  {
   "cell_type": "code",
   "execution_count": 6,
   "metadata": {},
   "outputs": [],
   "source": [
    "class EpsilonGreedy():\n",
    "    \n",
    "    def __init__(self, epsilon):\n",
    "        self._epsilon = epsilon\n",
    "        self._action_values = np.zeros(10)\n",
    "        \n",
    "    def compute_action(self):\n",
    "        if np.random.rand() < self._epsilon:\n",
    "            return np.random.randint(10)\n",
    "        else:\n",
    "            return np.argmax(self._action_values)\n",
    "        \n",
    "    def update_parameters(self, action, reward):\n",
    "        self._action_values[action] += 0.1 * (reward - self._action_values[action])"
   ]
  },
  {
   "cell_type": "code",
   "execution_count": 7,
   "metadata": {},
   "outputs": [],
   "source": [
    "def compute_average_reward(algorithm, timesteps, param = None):\n",
    "    rewards = np.zeros((2000, timesteps))\n",
    "    for i in range(2000):\n",
    "        mab = MultiArmedBandit()\n",
    "        if param:\n",
    "            alg = algorithm(param)\n",
    "        else:\n",
    "            alg = algorithm()\n",
    "        for j in range(timesteps):\n",
    "            action = alg.compute_action()\n",
    "            reward = mab.pull_arm(action)\n",
    "            rewards[i,j] = reward\n",
    "            alg.update_parameters(action, reward)\n",
    "    mean_rewards = np.mean(rewards, axis=0)\n",
    "    return np.mean(mean_rewards[timesteps//2:])"
   ]
  },
  {
   "cell_type": "code",
   "execution_count": 8,
   "metadata": {},
   "outputs": [],
   "source": [
    "def meta_compute_average_rewards(algorithm, timesteps, params):\n",
    "    n = len(params)\n",
    "    average_rewards = np.zeros(n)\n",
    "    for idx, value in enumerate(params):\n",
    "        average_rewards[idx] = compute_average_reward(algorithm, timesteps, param=value)\n",
    "    return average_rewards"
   ]
  },
  {
   "cell_type": "code",
   "execution_count": 10,
   "metadata": {},
   "outputs": [],
   "source": [
    "params = [2**i for i in range(-4,3)]\n",
    "ucb_rewards = meta_compute_average_rewards(UCB, 200, params)"
   ]
  },
  {
   "cell_type": "code",
   "execution_count": 14,
   "metadata": {},
   "outputs": [
    {
     "data": {
      "text/plain": [
       "[<matplotlib.lines.Line2D at 0x7f707808ea58>]"
      ]
     },
     "execution_count": 14,
     "metadata": {},
     "output_type": "execute_result"
    },
    {
     "data": {
      "image/png": "[encoded data removed]",
      "text/plain": [
       "<Figure size 864x864 with 1 Axes>"
      ]
     },
     "metadata": {},
     "output_type": "display_data"
    }
   ],
   "source": [
    "fig = plt.figure(figsize=(12,12))\n",
    "plt.semilogx(params, ucb_rewards)"
   ]
  }
 ],
 "metadata": {
  "kernelspec": {
   "display_name": "Python 3",
   "language": "python",
   "name": "python3"
  },
  "language_info": {
   "codemirror_mode": {
    "name": "ipython",
    "version": 3
   },
   "file_extension": ".py",
   "mimetype": "text/x-python",
   "name": "python",
   "nbconvert_exporter": "python",
   "pygments_lexer": "ipython3",
   "version": "3.6.5"
  }
 },
 "nbformat": 4,
 "nbformat_minor": 2
}
