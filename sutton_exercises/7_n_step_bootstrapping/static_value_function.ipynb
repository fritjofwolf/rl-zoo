{
 "cells": [
  {
   "cell_type": "markdown",
   "metadata": {},
   "source": [
    "# Experiments with static value functions"
   ]
  },
  {
   "cell_type": "markdown",
   "metadata": {},
   "source": [
    "Exercise 7.2 (programming) With an n-step method, the value estimates do change from step to step,\n",
    "so an algorithm that used the sum of TD errors (see previous exercise) in place of the error in (7.2)\n",
    "would actually be a slightly different algorithm. Would it be a better algorithm or a worse one? Devise\n",
    "and program a small experiment to answer this question empirically."
   ]
  },
  {
   "cell_type": "code",
   "execution_count": 1,
   "metadata": {},
   "outputs": [],
   "source": [
    "import numpy as np\n",
    "import matplotlib.pyplot as plt\n",
    "%matplotlib inline"
   ]
  },
  {
   "cell_type": "code",
   "execution_count": 7,
   "metadata": {},
   "outputs": [],
   "source": [
    "class RandomWalk():\n",
    "    \n",
    "    def __init__(self, size):\n",
    "        self._size = size\n",
    "        self.reset()\n",
    "        \n",
    "    def move(self, action):\n",
    "        self._current_position += action\n",
    "        reward, is_done = self._compute_reward_and_end()\n",
    "        return self._current_position, reward, is_done\n",
    "        \n",
    "    def _compute_reward_and_end(self):\n",
    "        if self._current_position == 0:\n",
    "            return -1, True\n",
    "        elif self._current_position == self._size + 1:\n",
    "            return 1, True\n",
    "        else:\n",
    "            return 0, False\n",
    "        \n",
    "    def reset(self):\n",
    "        self._current_position = self._size // 2 + 1"
   ]
  },
  {
   "cell_type": "code",
   "execution_count": null,
   "metadata": {},
   "outputs": [],
   "source": [
    "def n_step_learning(n, alpha, n_episodes):\n",
    "    rm = RandomWalk(n)\n",
    "    v = np.zeros(n)\n",
    "    for _ in n_episodes:\n",
    "        v = "
   ]
  },
  {
   "cell_type": "code",
   "execution_count": 8,
   "metadata": {},
   "outputs": [
    {
     "name": "stderr",
     "output_type": "stream",
     "text": [
      "<ipython-input-8-f289376454c0>:6: SyntaxWarning: assertion is always true, perhaps remove parentheses?\n",
      "  assert(a,b,c == 6, 1, True)\n"
     ]
    }
   ],
   "source": [
    "def test_random_walk():\n",
    "    rm = RandomWalk(5)\n",
    "    rm.move(1)\n",
    "    rm.move(1)\n",
    "    a,b,c = rm.move(1)\n",
    "    assert(a,b,c == 6, 1, True)\n",
    "test_random_walk()"
   ]
  }
 ],
 "metadata": {
  "kernelspec": {
   "display_name": "Python 3",
   "language": "python",
   "name": "python3"
  },
  "language_info": {
   "codemirror_mode": {
    "name": "ipython",
    "version": 3
   },
   "file_extension": ".py",
   "mimetype": "text/x-python",
   "name": "python",
   "nbconvert_exporter": "python",
   "pygments_lexer": "ipython3",
   "version": "3.6.5"
  }
 },
 "nbformat": 4,
 "nbformat_minor": 2
}
