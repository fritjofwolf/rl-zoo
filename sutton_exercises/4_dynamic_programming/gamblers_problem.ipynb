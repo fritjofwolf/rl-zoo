{
 "cells": [
  {
   "cell_type": "code",
   "execution_count": 3,
   "metadata": {},
   "outputs": [],
   "source": [
    "import numpy as np\n",
    "import matplotlib.pyplot as plt\n",
    "%matplotlib inline"
   ]
  },
  {
   "cell_type": "code",
   "execution_count": 56,
   "metadata": {},
   "outputs": [],
   "source": [
    "def value_iteration(prob):\n",
    "    v = np.zeros(101)\n",
    "    v[100] = 1\n",
    "    delta = 1\n",
    "    while delta > 10**0:\n",
    "        delta = 0\n",
    "        for i in range(1, 100):\n",
    "            old_value = v[i]\n",
    "            v[i], _ = compute_value(i, v, prob)\n",
    "            delta = max(delta, abs(old_value-v[i]))\n",
    "        plt.plot(range(0,101), v)\n",
    "        plt.show()\n",
    "    p = compute_greedy_policy(v, prob)\n",
    "    return p, v\n",
    "\n",
    "def compute_greedy_policy(v, prob):\n",
    "    p = np.zeros(101)\n",
    "    for i in range(101):\n",
    "        _, p[i] = compute_value(i, v, prob)\n",
    "    return p\n",
    "        \n",
    "def compute_value(i, v, prob):\n",
    "    max_action = 0\n",
    "    max_value = -10\n",
    "    for k in range(1,min(100-i, i)+1):\n",
    "        tmp = prob * v[i+k] + (1-prob) * v[i-k]\n",
    "        if tmp > max_value:\n",
    "            max_value = tmp\n",
    "            max_action = k\n",
    "#     print(max_value)\n",
    "    return max_value, max_action"
   ]
  },
  {
   "cell_type": "code",
   "execution_count": 57,
   "metadata": {
    "scrolled": true
   },
   "outputs": [],
   "source": [
    "p, v = value_iteration(0.4)"
   ]
  },
  {
   "cell_type": "code",
   "execution_count": 58,
   "metadata": {},
   "outputs": [
    {
     "data": {
      "image/png": "[encoded data removed]",
      "text/plain": [
       "<Figure size 432x288 with 1 Axes>"
      ]
     },
     "metadata": {},
     "output_type": "display_data"
    }
   ],
   "source": [
    "plt.plot(range(0,101), p)\n",
    "plt.show()"
   ]
  },
  {
   "cell_type": "code",
   "execution_count": 17,
   "metadata": {},
   "outputs": [
    {
     "data": {
      "text/plain": [
       "24.0"
      ]
     },
     "execution_count": 17,
     "metadata": {},
     "output_type": "execute_result"
    }
   ],
   "source": [
    "p[]"
   ]
  },
  {
   "cell_type": "code",
   "execution_count": null,
   "metadata": {},
   "outputs": [],
   "source": []
  }
 ],
 "metadata": {
  "kernelspec": {
   "display_name": "Python 3",
   "language": "python",
   "name": "python3"
  },
  "language_info": {
   "codemirror_mode": {
    "name": "ipython",
    "version": 3
   },
   "file_extension": ".py",
   "mimetype": "text/x-python",
   "name": "python",
   "nbconvert_exporter": "python",
   "pygments_lexer": "ipython3",
   "version": "3.6.5"
  }
 },
 "nbformat": 4,
 "nbformat_minor": 2
}
