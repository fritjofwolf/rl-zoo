{
 "cells": [
  {
   "cell_type": "markdown",
   "metadata": {},
   "source": [
    "# Proximal Policy Optimization"
   ]
  },
  {
   "cell_type": "code",
   "execution_count": null,
   "metadata": {},
   "outputs": [],
   "source": [
    "import tensorflow as tf\n",
    "import gym\n",
    "import numpy as np\n",
    "import matplotlib.pyplot as plt\n",
    "%matplotlib inline"
   ]
  },
  {
   "cell_type": "code",
   "execution_count": null,
   "metadata": {},
   "outputs": [],
   "source": [
    "def collect_data(sess, batch_size, gamma=0.99, debug=False):\n",
    "    # make some empty lists for logging.\n",
    "    batch_obs = []          # for observations\n",
    "    batch_acts = []         # for actions\n",
    "    batch_rets = []         # for measuring episode returns\n",
    "    batch_lens = []         # for measuring episode lengths\n",
    "    batch_new_obs = []\n",
    "    \n",
    "    # reset episode-specific variables\n",
    "    obs = env.reset()       # first obs comes from starting distribution\n",
    "    done = False            # signal from environment that episode is over\n",
    "    ep_rews = []            # list for rewards accrued throughout ep\n",
    "\n",
    "    # collect experience by acting in the environment with current policy\n",
    "    while True:\n",
    "        # save obs\n",
    "        batch_obs.append(obs.copy())\n",
    "\n",
    "        # act in the environment\n",
    "        act = sess.run(actions, {obs_ph: obs.reshape(1,-1)})[0]\n",
    "        obs, rew, done, info = env.step(act)\n",
    "        batch_new_obs.append(obs.copy())\n",
    "        # save action, reward\n",
    "        batch_acts.append(act)\n",
    "        ep_rews.append(rew)\n",
    "\n",
    "        if done:\n",
    "            # if episode is over, record info about episode\n",
    "            ep_ret, ep_len = sum(ep_rews), len(ep_rews)\n",
    "            batch_rets.append(ep_ret)\n",
    "            batch_lens.append(ep_len)\n",
    "            \n",
    "            # reset episode-specific variables\n",
    "            obs, done, ep_rews = env.reset(), False, []\n",
    "\n",
    "            # end experience loop if we have enough of it\n",
    "            if len(batch_obs) > batch_size:\n",
    "                break\n",
    "    return batch_obs, batch_acts, batch_new_obs, batch_rets, batch_lens"
   ]
  },
  {
   "cell_type": "code",
   "execution_count": null,
   "metadata": {},
   "outputs": [],
   "source": [
    "env = gym.make('CartPole-v0')\n",
    "obs_dim = env.observation_space.shape[0]\n",
    "n_acts = 2\n",
    "gamma = 0.9\n",
    "\n",
    "# placeholder\n",
    "obs_ph = tf.placeholder(shape=(None, obs_dim), dtype=tf.float32)\n",
    "act_ph = tf.placeholder(shape=(None,), dtype=tf.int32)\n",
    "new_obs_ph = tf.placeholder(shape=(None, obs_dim), dtype=tf.float32)\n",
    "rew_ph = tf.placeholder(shape=(None,), dtype=tf.float32)\n",
    "\n",
    "# make core of policy network\n",
    "mlp_policy = tf.keras.models.Sequential()\n",
    "mlp_policy.add(tf.keras.layers.Dense(50, activation='tanh'))\n",
    "mlp_policy.add(tf.keras.layers.Dense(50, activation='tanh'))\n",
    "mlp_policy.add(tf.keras.layers.Dense(n_acts))\n",
    "\n",
    "# make state-value function network\n",
    "mlp_state_value = tf.keras.models.Sequential()\n",
    "mlp_state_value.add(tf.keras.layers.Dense(50, activation='relu'))\n",
    "mlp_state_value.add(tf.keras.layers.Dense(50, activation='relu'))\n",
    "mlp_state_value.add(tf.keras.layers.Dense(1))\n",
    "state_value = mlp_state_value(obs_ph)\n",
    "new_state_value = mlp_state_value(new_obs_ph)\n",
    "td_target = rew_ph + gamma * new_state_value\n",
    "\n",
    "# make loss function whose gradient, for the right data, is policy gradient\n",
    "obs_logits = mlp_policy(obs_ph)\n",
    "actions = tf.squeeze(tf.multinomial(logits=obs_logits,num_samples=1), axis=1)\n",
    "action_masks = tf.one_hot(act_ph, n_acts)\n",
    "selected_action_probs = tf.reduce_sum(action_masks * tf.nn.softmax(obs_logits), axis=1)\n",
    "r = selected_action_probs / tf.stop_gradient(selected_action_probs)\n",
    "advantages = td_target - state_value\n",
    "factor = 1 + 0.2 * tf.math.sign(advantages)\n",
    "policy_loss = tf.reduce_mean(tf.math.minimum(r, factor) * advantages)\n",
    "\n",
    "# state value loss function\n",
    "state_value_loss = tf.reduce_mean((tf.stop_gradient(td_target) - state_value)**2)"
   ]
  },
  {
   "cell_type": "code",
   "execution_count": null,
   "metadata": {
    "scrolled": false
   },
   "outputs": [],
   "source": [
    "policy_optimizer = tf.train.AdamOptimizer(0.003)\n",
    "state_value_optimizer = tf.train.AdamOptimizer(0.001)\n",
    "train_policy = policy_optimizer.minimize(policy_loss)\n",
    "train_state_value = state_value_optimizer.minimize(state_value_loss)\n",
    "\n",
    "sess = tf.Session()\n",
    "n_epochs = 100\n",
    "K = 5\n",
    "sess = tf.Session()\n",
    "sess.run(tf.global_variables_initializer())\n",
    "for i in range(n_epochs):\n",
    "    obs, acts, new_obs, rews, lens = collect_data(sess, 1000)\n",
    "    for j in range(K):\n",
    "        sess.run([train_policy],feed_dict={\n",
    "                                    obs_ph: np.array(obs).reshape(-1, obs_dim),\n",
    "                                    act_ph: np.array(acts),\n",
    "                                    new_obs_ph: np.array(new_obs).reshape(-1, obs_dim),\n",
    "                                    rew_ph: np.array(rews)                                \n",
    "                                 })"
   ]
  },
  {
   "cell_type": "code",
   "execution_count": null,
   "metadata": {},
   "outputs": [],
   "source": []
  }
 ],
 "metadata": {
  "kernelspec": {
   "display_name": "Python 3",
   "language": "python",
   "name": "python3"
  },
  "language_info": {
   "codemirror_mode": {
    "name": "ipython",
    "version": 3
   },
   "file_extension": ".py",
   "mimetype": "text/x-python",
   "name": "python",
   "nbconvert_exporter": "python",
   "pygments_lexer": "ipython3",
   "version": "3.6.7"
  }
 },
 "nbformat": 4,
 "nbformat_minor": 2
}
