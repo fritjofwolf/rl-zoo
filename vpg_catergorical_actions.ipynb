{
 "cells": [
  {
   "cell_type": "code",
   "execution_count": 2,
   "metadata": {
    "colab": {},
    "colab_type": "code",
    "id": "TXOLwVpnriyu"
   },
   "outputs": [],
   "source": [
    "import tensorflow as tf\n",
    "import gym\n",
    "import numpy as np\n",
    "import matplotlib.pyplot as plt\n",
    "%matplotlib inline"
   ]
  },
  {
   "cell_type": "markdown",
   "metadata": {},
   "source": [
    "open problems:\n",
    "    - use multiprocessing to compute several trajectories at the same time"
   ]
  },
  {
   "cell_type": "code",
   "execution_count": 3,
   "metadata": {
    "colab": {},
    "colab_type": "code",
    "id": "RKRYbCNYre-O"
   },
   "outputs": [],
   "source": [
    "def collect_data(sess, batch_size, gamma=0.99, debug=False):\n",
    "    # make some empty lists for logging.\n",
    "    batch_obs = []          # for observations\n",
    "    batch_acts = []         # for actions\n",
    "    batch_weights = []      # for R(tau) weighting in policy gradient\n",
    "    batch_rets = []         # for measuring episode returns\n",
    "    batch_lens = []         # for measuring episode lengths\n",
    "\n",
    "    # reset episode-specific variables\n",
    "    obs = env.reset()       # first obs comes from starting distribution\n",
    "    done = False            # signal from environment that episode is over\n",
    "    ep_rews = []            # list for rewards accrued throughout ep\n",
    "\n",
    "    # collect experience by acting in the environment with current policy\n",
    "    while True:\n",
    "        # save obs\n",
    "        batch_obs.append(obs.copy())\n",
    "\n",
    "        # act in the environment\n",
    "        act = sess.run(actions, {obs_ph: obs.reshape(1,-1)})[0]\n",
    "        obs, rew, done, _ = env.step(act)\n",
    "\n",
    "        # save action, reward\n",
    "        batch_acts.append(act)\n",
    "        ep_rews.append(rew)\n",
    "\n",
    "        if done:\n",
    "            # if episode is over, record info about episode\n",
    "            ep_ret, ep_len = sum(ep_rews), len(ep_rews)\n",
    "            batch_rets.append(ep_ret)\n",
    "            batch_lens.append(ep_len)\n",
    "            \n",
    "            # the weight for each logprob(a_t|s_t) is reward-to-go from t\n",
    "            bootstrap_value = sess.run(state_value, {obs_ph:obs.reshape(1,-1)})[0][0]\n",
    "            batch_weights += compute_rewards_to_go(ep_rews, gamma, bootstrap_value)\n",
    "\n",
    "            # reset episode-specific variables\n",
    "            obs, done, ep_rews = env.reset(), False, []\n",
    "\n",
    "            # end experience loop if we have enough of it\n",
    "            if len(batch_obs) > batch_size:\n",
    "                break\n",
    "    return batch_obs, batch_acts, batch_weights, batch_rets, batch_lens\n",
    "\n",
    "def compute_rewards_to_go(rewards, gamma, bootstrap_value):\n",
    "    rewards_to_go = [rewards[-1] + gamma*bootstrap_value]\n",
    "    for rew in rewards[:-1][::-1]:\n",
    "        tmp = rewards_to_go[-1]\n",
    "        rewards_to_go.append(rew + gamma * tmp)\n",
    "    return rewards_to_go[::-1]\n",
    "\n"
   ]
  },
  {
   "cell_type": "markdown",
   "metadata": {},
   "source": [
    "## Build Computational Graph"
   ]
  },
  {
   "cell_type": "code",
   "execution_count": 6,
   "metadata": {
    "colab": {},
    "colab_type": "code",
    "id": "9SwEgl3AsRS1"
   },
   "outputs": [],
   "source": [
    "obs_dim = 4\n",
    "n_acts = 2\n",
    "\n",
    "# placeholder\n",
    "obs_ph = tf.placeholder(shape=(None, obs_dim), dtype=tf.float32)\n",
    "act_ph = tf.placeholder(shape=(None,), dtype=tf.int32)\n",
    "weights_ph = tf.placeholder(shape=(None,), dtype=tf.float32)\n",
    "\n",
    "# make core of policy network\n",
    "mlp = tf.keras.models.Sequential()\n",
    "mlp.add(tf.keras.layers.Dense(30, activation='tanh'))\n",
    "mlp.add(tf.keras.layers.Dense(n_acts))\n",
    "logits = mlp(obs_ph)\n",
    "\n",
    "# make core of state-action-value function network\n",
    "# mlp_action_val = tf.keras.models.Sequential()\n",
    "# mlp_action_val.add(tf.keras.layers.Dense(50, activation='tanh'))\n",
    "# mlp_action_val.add(tf.keras.layers.Dense(50, activation='tanh'))\n",
    "# mlp_action_val.add(tf.keras.layers.Dense(n_acts))\n",
    "# state_action_values = mlp_action_val(obs_ph)\n",
    "\n",
    "# make state-value function network\n",
    "mlp_val = tf.keras.models.Sequential()\n",
    "mlp_val.add(tf.keras.layers.Dense(50, activation='relu'))\n",
    "mlp_val.add(tf.keras.layers.Dense(50, activation='relu'))\n",
    "mlp_val.add(tf.keras.layers.Dense(1))\n",
    "state_value = mlp_val(obs_ph)\n",
    "\n",
    "# make action selection op (outputs int actions, sampled from policy)\n",
    "actions = tf.squeeze(tf.multinomial(logits=logits,num_samples=1), axis=1)\n",
    "\n",
    "# make loss function whose gradient, for the right data, is policy gradient\n",
    "action_masks = tf.one_hot(act_ph, n_acts)\n",
    "log_probs = tf.reduce_sum(action_masks * tf.nn.log_softmax(logits), axis=1)\n",
    "# action_values = tf.reduce_sum(action_masks * state_action_values, axis=1)\n",
    "# baseline = tf.reduce_sum(state_action_values * tf.nn.softmax(logits))\n",
    "loss = -tf.reduce_mean((weights_ph) * log_probs)\n",
    "\n",
    "\n",
    "\n",
    "# state value loss function\n",
    "# loss_action_value = tf.reduce_mean((action_values - weights_ph)**2)\n",
    "loss_state_value = tf.reduce_mean((state_value - weights_ph)**2)"
   ]
  },
  {
   "cell_type": "code",
   "execution_count": 7,
   "metadata": {
    "colab": {
     "base_uri": "https://localhost:8080/",
     "height": 3859
    },
    "colab_type": "code",
    "id": "d7BvcPvltv-i",
    "outputId": "6e8e6588-c84b-4c7e-f54c-067f9023674f",
    "scrolled": true
   },
   "outputs": [
    {
     "ename": "NameError",
     "evalue": "name 'n_runs' is not defined",
     "output_type": "error",
     "traceback": [
      "\u001b[0;31m---------------------------------------------------------------------------\u001b[0m",
      "\u001b[0;31mNameError\u001b[0m                                 Traceback (most recent call last)",
      "\u001b[0;32m<timed exec>\u001b[0m in \u001b[0;36m<module>\u001b[0;34m\u001b[0m\n",
      "\u001b[0;31mNameError\u001b[0m: name 'n_runs' is not defined"
     ]
    }
   ],
   "source": [
    "%%time\n",
    "# main\n",
    "env = gym.make('CartPole-v0')\n",
    "\n",
    "# global_step = tf.Variable(0, trainable=False)\n",
    "# starter_learning_rate = 0.01\n",
    "# learning_rate = tf.train.exponential_decay(starter_learning_rate, global_step,\n",
    "#                                            50, 0.90, staircase=True)\n",
    "# # Passing global_step to minimize() will increment it at each step.\n",
    "# policy_learning_step = (\n",
    "#     tf.train.AdamOptimizer(learning_rate)\n",
    "#     .minimize(loss, global_step=global_step)\n",
    "# )\n",
    "\n",
    "optimizer = tf.train.AdamOptimizer(0.001)\n",
    "# optimizer_action_value = tf.train.AdamOptimizer(0.001)\n",
    "optimizer_state_value = tf.train.AdamOptimizer(0.001)\n",
    "train = optimizer.minimize(loss)\n",
    "# train_action_value = optimizer_action_value.minimize(loss_action_value)\n",
    "train_state_value = optimizer_state_value.minimize(loss_state_value)\n",
    "\n",
    "init = tf.global_variables_initializer()\n",
    "sess = tf.Session()\n",
    "sess.run(init)\n",
    "\n",
    "n_runs = 10\n",
    "episode_returns = np.zeros((n_runs, n_epochs))\n",
    "\n",
    "\n",
    "\n",
    "for i in range(3000):\n",
    "    tmp1, tmp2, tmp3, batch_rets, batch_len = collect_data(sess, 4000 ,debug=False)\n",
    "    episode_returns.extend(batch_rets)\n",
    "    print(i, np.mean(batch_len), np.min(batch_len), np.max(batch_len))\n",
    "    sess.run([train],feed_dict={\n",
    "                                    obs_ph: np.array(tmp1),\n",
    "                                    act_ph: np.array(tmp2),\n",
    "                                    weights_ph: np.array(tmp3)\n",
    "                                 })\n",
    "    for _ in range(10):\n",
    "        sess.run([train_state_value],feed_dict={\n",
    "                                obs_ph: np.array(tmp1),\n",
    "                                act_ph: np.array(tmp2),\n",
    "                                weights_ph: np.array(tmp3)\n",
    "                             })\n",
    "    v = sess.run([state_value], feed_dict={\n",
    "                                    obs_ph: np.array(tmp1),\n",
    "                                    act_ph: np.array(tmp2),\n",
    "                                    weights_ph: np.array(tmp3)\n",
    "                                 })\n",
    "    print(\"Value function mean and std:\", np.mean(v), np.std(v))\n",
    "    #print('Optimized')\n",
    "print('Evaluation')\n",
    "tmp1, tmp2, tmp3, batch_rets, batch_len = collect_data(sess, 5, debug=True)\n",
    "print(np.mean(batch_len), np.min(batch_len), np.max(batch_len))\n",
    "print()"
   ]
  },
  {
   "cell_type": "markdown",
   "metadata": {},
   "source": [
    "## Visualization"
   ]
  },
  {
   "cell_type": "code",
   "execution_count": 5,
   "metadata": {
    "colab": {},
    "colab_type": "code",
    "id": "Ta2MN0ZJRufF"
   },
   "outputs": [
    {
     "ename": "NameError",
     "evalue": "name 'episode_returns' is not defined",
     "output_type": "error",
     "traceback": [
      "\u001b[0;31m---------------------------------------------------------------------------\u001b[0m",
      "\u001b[0;31mNameError\u001b[0m                                 Traceback (most recent call last)",
      "\u001b[0;32m<ipython-input-5-1f866846c92a>\u001b[0m in \u001b[0;36m<module>\u001b[0;34m\u001b[0m\n\u001b[1;32m      1\u001b[0m \u001b[0mt\u001b[0m \u001b[0;34m=\u001b[0m \u001b[0;36m100\u001b[0m\u001b[0;34m\u001b[0m\u001b[0;34m\u001b[0m\u001b[0m\n\u001b[0;32m----> 2\u001b[0;31m \u001b[0mepisode_mean_returns\u001b[0m \u001b[0;34m=\u001b[0m \u001b[0;34m[\u001b[0m\u001b[0mnp\u001b[0m\u001b[0;34m.\u001b[0m\u001b[0mmean\u001b[0m\u001b[0;34m(\u001b[0m\u001b[0mepisode_returns\u001b[0m\u001b[0;34m[\u001b[0m\u001b[0mi\u001b[0m\u001b[0;34m-\u001b[0m\u001b[0mt\u001b[0m\u001b[0;34m:\u001b[0m\u001b[0mi\u001b[0m\u001b[0;34m]\u001b[0m\u001b[0;34m)\u001b[0m \u001b[0;32mfor\u001b[0m \u001b[0mi\u001b[0m \u001b[0;32min\u001b[0m \u001b[0mrange\u001b[0m\u001b[0;34m(\u001b[0m\u001b[0mt\u001b[0m\u001b[0;34m,\u001b[0m \u001b[0mlen\u001b[0m\u001b[0;34m(\u001b[0m\u001b[0mepisode_returns\u001b[0m\u001b[0;34m)\u001b[0m\u001b[0;34m)\u001b[0m\u001b[0;34m]\u001b[0m\u001b[0;34m\u001b[0m\u001b[0;34m\u001b[0m\u001b[0m\n\u001b[0m\u001b[1;32m      3\u001b[0m \u001b[0;34m\u001b[0m\u001b[0m\n\u001b[1;32m      4\u001b[0m \u001b[0mfig\u001b[0m \u001b[0;34m=\u001b[0m \u001b[0mplt\u001b[0m\u001b[0;34m.\u001b[0m\u001b[0mfigure\u001b[0m\u001b[0;34m(\u001b[0m\u001b[0mfigsize\u001b[0m\u001b[0;34m=\u001b[0m\u001b[0;34m(\u001b[0m\u001b[0;36m12\u001b[0m\u001b[0;34m,\u001b[0m\u001b[0;36m12\u001b[0m\u001b[0;34m)\u001b[0m\u001b[0;34m)\u001b[0m\u001b[0;34m\u001b[0m\u001b[0;34m\u001b[0m\u001b[0m\n\u001b[1;32m      5\u001b[0m \u001b[0mplt\u001b[0m\u001b[0;34m.\u001b[0m\u001b[0mplot\u001b[0m\u001b[0;34m(\u001b[0m\u001b[0mrange\u001b[0m\u001b[0;34m(\u001b[0m\u001b[0mt\u001b[0m\u001b[0;34m,\u001b[0m\u001b[0mlen\u001b[0m\u001b[0;34m(\u001b[0m\u001b[0mepisode_mean_returns\u001b[0m\u001b[0;34m)\u001b[0m\u001b[0;34m+\u001b[0m\u001b[0mt\u001b[0m\u001b[0;34m)\u001b[0m\u001b[0;34m,\u001b[0m \u001b[0mepisode_mean_returns\u001b[0m\u001b[0;34m,\u001b[0m \u001b[0mcolor\u001b[0m\u001b[0;34m=\u001b[0m\u001b[0mnp\u001b[0m\u001b[0;34m.\u001b[0m\u001b[0mrandom\u001b[0m\u001b[0;34m.\u001b[0m\u001b[0mrand\u001b[0m\u001b[0;34m(\u001b[0m\u001b[0;36m3\u001b[0m\u001b[0;34m)\u001b[0m\u001b[0;34m)\u001b[0m\u001b[0;34m\u001b[0m\u001b[0;34m\u001b[0m\u001b[0m\n",
      "\u001b[0;31mNameError\u001b[0m: name 'episode_returns' is not defined"
     ]
    }
   ],
   "source": [
    "t = 100\n",
    "episode_mean_returns = [np.mean(episode_returns[i-t:i]) for i in range(t, len(episode_returns))]\n",
    "\n",
    "fig = plt.figure(figsize=(12,12))\n",
    "plt.plot(range(t,len(episode_mean_returns)+t), episode_mean_returns, color=np.random.rand(3))\n",
    "plt.xlabel('Episodes')\n",
    "plt.ylabel('Mean Episode Return')"
   ]
  },
  {
   "cell_type": "markdown",
   "metadata": {},
   "source": [
    "## OpenAI Implementation "
   ]
  },
  {
   "cell_type": "code",
   "execution_count": null,
   "metadata": {},
   "outputs": [],
   "source": []
  }
 ],
 "metadata": {
  "colab": {
   "collapsed_sections": [],
   "name": "Copy of simple_policy_gradient.ipynb",
   "provenance": [],
   "version": "0.3.2"
  },
  "kernelspec": {
   "display_name": "Python 3",
   "language": "python",
   "name": "python3"
  },
  "language_info": {
   "codemirror_mode": {
    "name": "ipython",
    "version": 3
   },
   "file_extension": ".py",
   "mimetype": "text/x-python",
   "name": "python",
   "nbconvert_exporter": "python",
   "pygments_lexer": "ipython3",
   "version": "3.6.7"
  }
 },
 "nbformat": 4,
 "nbformat_minor": 1
}
